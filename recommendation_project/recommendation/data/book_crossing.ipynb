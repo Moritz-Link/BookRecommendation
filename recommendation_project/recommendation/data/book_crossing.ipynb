{
 "cells": [
  {
   "cell_type": "code",
   "execution_count": 1,
   "metadata": {},
   "outputs": [],
   "source": [
    "from io import BytesIO\n",
    "from urllib.request import urlopen\n",
    "from zipfile import ZipFile\n",
    "import pandas as pd\n",
    "#import matplotlib.pyplot as plt \n",
    "#import seaborn as sns \n",
    "from torch.nn import Conv1d, MaxPool1d, Linear, Dropout, BCEWithLogitsLoss\n",
    "from sklearn.metrics import roc_auc_score, average_precision_score\n",
    "\n",
    "import torch\n",
    "import networkx as nx\n",
    "import  torch_geometric\n",
    "import numpy as np\n",
    "import dill as pickle\n",
    "\n",
    "from torch_geometric.data import HeteroData\n",
    "import torch_geometric.transforms as T"
   ]
  },
  {
   "cell_type": "markdown",
   "metadata": {},
   "source": [
    "# Test Things"
   ]
  },
  {
   "cell_type": "markdown",
   "metadata": {},
   "source": [
    "### k_hop_subgraph"
   ]
  },
  {
   "cell_type": "code",
   "execution_count": 81,
   "metadata": {},
   "outputs": [
    {
     "name": "stdout",
     "output_type": "stream",
     "text": [
      "edge_index: tensor([[0, 1, 2, 3, 4, 5],\n",
      "        [2, 2, 4, 4, 6, 6]])\n"
     ]
    }
   ],
   "source": [
    "edge_index = torch.tensor([[0, 1, 2, 3, 4, 5],[2, 2, 4, 4, 6, 6]])\n",
    "print(f'edge_index: {edge_index}')"
   ]
  },
  {
   "cell_type": "code",
   "execution_count": 82,
   "metadata": {},
   "outputs": [
    {
     "name": "stdout",
     "output_type": "stream",
     "text": [
      "subset: tensor([0, 1, 2, 3, 4])\n",
      "edge_index: tensor([[0, 1, 2, 3],\n",
      "        [2, 2, 4, 4]])\n",
      "mapping: tensor([4])\n",
      "edge_mask: tensor([ True,  True,  True,  True, False, False])\n",
      "subset[mapping]: tensor([4])\n"
     ]
    },
    {
     "name": "stderr",
     "output_type": "stream",
     "text": [
      "c:\\Users\\morit\\Documents\\Python Scripts\\me\\lib\\site-packages\\torch_geometric\\data\\storage.py:304: UserWarning: Unable to accurately infer 'num_nodes' from the attribute set '{'edge_index'}'. Please explicitly set 'num_nodes' as an attribute of 'data' to suppress this warning\n",
      "  warnings.warn(\n"
     ]
    },
    {
     "data": {
      "image/png": "[encoded data removed]",
      "text/plain": [
       "<Figure size 640x480 with 1 Axes>"
      ]
     },
     "metadata": {},
     "output_type": "display_data"
    }
   ],
   "source": [
    "# Center node 6, 2-hops\n",
    "subset, edge_index, mapping, edge_mask = torch_geometric.utils.k_hop_subgraph( \n",
    "                                node_idx = 4, \n",
    "                                num_hops = 2, \n",
    "                                edge_index = edge_index,\n",
    "                                relabel_nodes=False)\n",
    "\n",
    "print(f'subset: {subset}')\n",
    "print(f'edge_index: {edge_index}')\n",
    "print(f'mapping: {mapping}')\n",
    "print(f'edge_mask: {edge_mask}')\n",
    "print(f'subset[mapping]: {subset[mapping]}')\n",
    "\n",
    "t = Data(edge_index=edge_index)\n",
    "g = torch_geometric.utils.to_networkx(t)\n",
    "\n",
    "nx.draw_networkx(g)\n"
   ]
  },
  {
   "cell_type": "code",
   "execution_count": 66,
   "metadata": {},
   "outputs": [
    {
     "name": "stdout",
     "output_type": "stream",
     "text": [
      "data: HeteroData(\n",
      "  \u001b[1muser\u001b[0m={ node_id=[47074] },\n",
      "  \u001b[1misbn\u001b[0m={\n",
      "    node_id=[98417],\n",
      "    x=[98417, 8751]\n",
      "  },\n",
      "  \u001b[1m(user, review, isbn)\u001b[0m={ edge_index=[2, 223807] },\n",
      "  \u001b[1m(isbn, rev_review, user)\u001b[0m={ edge_index=[2, 223807] }\n",
      ")\n",
      "\n",
      "subset: tensor([1, 3])\n",
      "edge_index: tensor([[0],\n",
      "        [1]])\n",
      "mapping: tensor([1])\n",
      "edge_mask: tensor([False, False, False,  ..., False, False, False])\n",
      "subset[mapping]: tensor([3])\n"
     ]
    }
   ],
   "source": [
    "print(f'data: {data}')\n",
    "\n",
    "print(f'data[\"isbn\" , \"rev_review\", \"user\"].edge_index: {data[\"isbn\" , \"rev_review\", \"user\"].edge_index}')\n",
    "\n",
    "subset, edge_index, mapping, edge_mask = torch_geometric.utils.k_hop_subgraph( \n",
    "                                node_idx = 3, \n",
    "                                num_hops = 1, \n",
    "                                edge_index = data[\"isbn\" , \"rev_review\", \"user\"].edge_index,\n",
    "                                relabel_nodes=True,\n",
    "                                )\n",
    "print()\n",
    "print(f'subset: {subset}')\n",
    "print(f'edge_index: {edge_index}')\n",
    "print(f'mapping: {mapping}')\n",
    "print(f'edge_mask: {edge_mask}')\n",
    "print(f'subset[mapping]: {subset[mapping]}')\n"
   ]
  },
  {
   "cell_type": "markdown",
   "metadata": {},
   "source": [
    "### create subgrah for the isbns"
   ]
  },
  {
   "cell_type": "code",
   "execution_count": 23,
   "metadata": {},
   "outputs": [],
   "source": [
    "#isbn_l = [0]\n",
    "from torch_geometric.data import Data"
   ]
  },
  {
   "cell_type": "code",
   "execution_count": 24,
   "metadata": {},
   "outputs": [],
   "source": [
    "def build_neighbors_for_isbn(isbn_index):\n",
    "    #print(f'isbn: {isbn_index}')\n",
    "    subset, edge_index_user_Isbn, mapping, edge_mask = torch_geometric.utils.k_hop_subgraph(\n",
    "        node_idx = isbn_index,\n",
    "        num_hops = 1,\n",
    "        edge_index = data[\"user\", \"review\", \"isbn\"].edge_index\n",
    "                                                                                )\n",
    "\n",
    "    choose_5_user_of_isbn = np.random.choice(edge_index_user_Isbn[0],size =5, replace=False)\n",
    "\n",
    "    safe = {}\n",
    "    for user in choose_5_user_of_isbn:\n",
    "        #print(f'user: {user}')\n",
    "        subset, edge_index_isbn_user, mapping, edge_mask = torch_geometric.utils.k_hop_subgraph( \n",
    "                                    node_idx = int(user), \n",
    "                                    num_hops = 1, \n",
    "                                    edge_index = data[\"isbn\" , \"rev_review\", \"user\"].edge_index,\n",
    "                                    \n",
    "                                    )\n",
    "        \n",
    "        #print(f'edge_index_isbn_user {edge_index_isbn_user}')\n",
    "        #print(f'len(edge_index_isbn_user[0]) {len(edge_index_isbn_user[0])}')\n",
    "        #print(f'edge_index_isbn_user[0] {edge_index_isbn_user[0]}')\n",
    "        if len(edge_index_isbn_user[0]) >= 5:\n",
    "            choose_5_isbn_of_user = np.random.choice(edge_index_isbn_user[0],size =5, replace=False)\n",
    "        else:\n",
    "            choose_5_isbn_of_user = np.random.choice(edge_index_isbn_user[0],size =len(edge_index_isbn_user[0]), replace=False)\n",
    "        safe[user] = choose_5_isbn_of_user\n",
    "        \n",
    "    #print()\n",
    "    #print(f'safe_ {safe}')\n",
    "    return safe\n",
    "\n",
    "\n",
    "def create_tensor_user_isbn(output_dict):\n",
    "    output_array = np.array([[],[]])\n",
    "    # print(f'output_array: {output_array }')\n",
    "    for k,v in output_dict.items():\n",
    "    \n",
    "        value_size = len(v)\n",
    "        array_index = np.full(value_size, k)\n",
    "        # print(f'array_index {array_index}')\n",
    "        \n",
    "        connect_array = np.vstack((array_index,v))\n",
    "#  '      print(f'connect_array {connect_array}')\n",
    "#         print()'\n",
    "        output_array = np.hstack((output_array,connect_array))\n",
    "    #print(f'create_tensor_user_isbn : {output_array}')\n",
    "    return output_array\n",
    "\n",
    "def create_tensor_isbn_user(output_dict, index_in):\n",
    "    key_size = len(output_dict.keys())\n",
    "    array_index = np.full(key_size, index_in)\n",
    "    array_users = np.array(list(output_dict.keys()))\n",
    "    connect_array = np.vstack((array_index,array_users))\n",
    "    return connect_array\n",
    "\n",
    "def get_isbn_x(isbn_node_id):\n",
    "    x_tensor = np.zeros((len(isbn_node_id), 8751))\n",
    "    for node_i , node in enumerate(isbn_node_id) :\n",
    "        node_t = torch_isbn[node]\n",
    "        x_tensor[node_i] = node_t\n",
    "        \n",
    "\n",
    "    return torch.tensor(x_tensor)"
   ]
  },
  {
   "cell_type": "code",
   "execution_count": 25,
   "metadata": {},
   "outputs": [],
   "source": [
    "# index_in = 0\n",
    "# output_dict = build_neighbors_for_isbn(index_in)\n",
    "# #create_tensor_isbn_user(output_dict, index_in)\n",
    "# user_to_isbn = create_tensor_user_isbn(output_dict)\n",
    "# isbn_to_user = create_tensor_isbn_user(output_dict, index_in)\n",
    "\n",
    "# isbn_to_user[[0,1],:] = isbn_to_user[[1,0],:] \n",
    "\n",
    "# b = np.hstack((isbn_to_user ,user_to_isbn))\n",
    "# edge_index_user_to_isbn_new = torch.tensor(b).type(torch.int64)\n",
    "\n",
    "# user_node_id = torch.tensor(list(output_dict.keys()))\n",
    "# isbn_node_id = torch.tensor(list(set(edge_index_user_to_isbn_new[1].tolist())))\n",
    "# isbn_x = get_isbn_x(isbn_node_id)\n",
    "# edge_index_user_isbn  = edge_index_user_to_isbn_new\n",
    "\n",
    "\n",
    "def build_data_for_isbn_ls(isbn_ls):\n",
    "    data_dict = {}\n",
    "    for isbn_in in isbn_ls:\n",
    "        index_in = isbn_in\n",
    "        output_dict = build_neighbors_for_isbn(index_in)\n",
    "        #create_tensor_isbn_user(output_dict, index_in)\n",
    "        user_to_isbn = create_tensor_user_isbn(output_dict)\n",
    "        isbn_to_user = create_tensor_isbn_user(output_dict, index_in)\n",
    "\n",
    "        isbn_to_user[[0,1],:] = isbn_to_user[[1,0],:] \n",
    "\n",
    "        b = np.hstack((isbn_to_user ,user_to_isbn))\n",
    "        edge_index_user_to_isbn_new = torch.tensor(b).type(torch.int64)\n",
    "\n",
    "        #user_node_id = torch.tensor(list(output_dict.keys()))\n",
    "        #isbn_node_id = torch.tensor(list(set(edge_index_user_to_isbn_new[1].tolist())))\n",
    "        #isbn_x = get_isbn_x(isbn_node_id)\n",
    "        edge_index_user_isbn_isbn_in  = edge_index_user_to_isbn_new\n",
    "        data_dict[isbn_in] = edge_index_user_isbn_isbn_in\n",
    "    #print(list(data_dict.values()))\n",
    "    number = 0\n",
    "    \n",
    "    for k,v in data_dict.items():\n",
    "        if number == 0:\n",
    "            t = v\n",
    "        else:\n",
    "            t = torch.hstack((t,v))\n",
    "        number += 1\n",
    "        \n",
    "    user_node_id = list(set(t[0].tolist()))\n",
    "    isbn_node_id = list(set(t[1].tolist()))\n",
    "    isbn_x = get_isbn_x(isbn_node_id)\n",
    "    return t,user_node_id,isbn_node_id, isbn_x, data_dict"
   ]
  },
  {
   "cell_type": "code",
   "execution_count": 361,
   "metadata": {},
   "outputs": [
    {
     "name": "stdout",
     "output_type": "stream",
     "text": [
      "[0, 5120, 31873, 1315, 1830, 10535, 2266, 6735, 35540, 46197, 42490, 25565]\n",
      "[0, 1, 2, 5640, 265, 77196, 9231, 32788, 23578, 9501, 1312, 8227, 4394, 30379, 2220, 12204, 8236, 14383, 683, 4397, 4399, 6452, 6453, 1594, 1088, 1475, 15172, 13764, 4422, 1351, 16712, 77257, 15177, 10443, 8909, 10446, 3919, 3920, 66384, 3416, 602, 15201, 9707, 1774, 4846, 21999, 7677]\n",
      "==========\n",
      "HeteroData(\n",
      "  \u001b[1muser\u001b[0m={ node_id=[12] },\n",
      "  \u001b[1misbn\u001b[0m={\n",
      "    node_id=[47],\n",
      "    x=[47, 8751]\n",
      "  },\n",
      "  \u001b[1m(user, review, isbn)\u001b[0m={ edge_index=[2, 76] },\n",
      "  \u001b[1m(isbn, rev_review, user)\u001b[0m={ edge_index=[2, 76] }\n",
      ")\n"
     ]
    }
   ],
   "source": [
    "edge_index_user_to_isbn_new,user_node_id,isbn_node_id,isbn_x, data_dict = build_data_for_isbn_ls([0,1,2])\n",
    "\n",
    "print(user_node_id)\n",
    "print(isbn_node_id)\n",
    "\n",
    "print('=' *10)\n",
    "data_new = HeteroData()\n",
    "\n",
    "data_new[\"user\"].node_id = user_node_id\n",
    "data_new[\"isbn\"].node_id =isbn_node_id\n",
    "data_new[\"isbn\"].x = isbn_x\n",
    "data_new[\"user\", \"review\", \"isbn\"].edge_index  = edge_index_user_to_isbn_new\n",
    "data_new = T.ToUndirected()(data_new)\n",
    "print(data_new)"
   ]
  },
  {
   "cell_type": "markdown",
   "metadata": {},
   "source": [
    "### build graph for new user"
   ]
  },
  {
   "cell_type": "code",
   "execution_count": 120,
   "metadata": {},
   "outputs": [],
   "source": [
    "#user_isbn_selection_ids = [0,8,70]\n",
    "def build_graph_for_new_user(user_isbn_selection_ids, user_id):\n",
    "    \n",
    "    user_id_a = np.full((len(user_isbn_selection_ids)),user_id)\n",
    "    isbn_a = np.array(user_isbn_selection_ids)\n",
    "    isbn_choice_a_to_new_user = np.vstack((isbn_a,user_id_a))\n",
    "    safe = {}\n",
    "    output_array = np.array([[],[]])\n",
    "    for isbn in user_isbn_selection_ids:\n",
    "        #print(f'isbn: {isbn}')\n",
    "        subset, edge_index_user_Isbn, mapping, edge_mask = torch_geometric.utils.k_hop_subgraph(\n",
    "        node_idx = isbn,\n",
    "        num_hops = 1,\n",
    "        edge_index = data[\"user\", \"review\", \"isbn\"].edge_index )  \n",
    "         \n",
    "        if len(edge_index_user_Isbn[0]) >= 5:\n",
    "            choose_5_user_of_isbn = np.random.choice(edge_index_user_Isbn[0],size =5, replace=False)\n",
    "        else:\n",
    "            choose_5_user_of_isbn = np.random.choice(edge_index_user_Isbn[0],size =len(edge_index_user_Isbn[0]), replace=False)\n",
    "\n",
    "        isbn_a = np.full((len(choose_5_user_of_isbn)),isbn )\n",
    "        user_a = choose_5_user_of_isbn\n",
    " \n",
    "        isbn_user_a = np.vstack((isbn_a,user_a ))\n",
    "        safe[isbn] = isbn_user_a\n",
    "        output_array = np.hstack((output_array,isbn_user_a ))\n",
    "    output_array = np.hstack((output_array,isbn_choice_a_to_new_user )).astype(int)\n",
    "    \n",
    "    #print(f'new_user_to_isbn_choice_a {isbn_choice_a_to_new_user.shape}')\n",
    "    #print(f'output_array {output_array.shape}')#torch.tensor(b).type(torch.int64)\n",
    "    output_array[[0,1],:] = output_array[[1,0],:] \n",
    "    isbn_nodes = output_array[1]\n",
    "    user_nodes = output_array[0]\n",
    "    #print(f'isbn_nodes {isbn_nodes}')\n",
    "    \n",
    "    return output_array, isbn_nodes, user_nodes\n",
    "#new_user_to_isbn__edges, isbn_nodes, user_nodes =  build_graph_for_new_user(user_isbn_selection_ids)"
   ]
  },
  {
   "cell_type": "markdown",
   "metadata": {},
   "source": [
    "### Combine both graphs, load model & test model"
   ]
  },
  {
   "cell_type": "code",
   "execution_count": 134,
   "metadata": {},
   "outputs": [
    {
     "name": "stdout",
     "output_type": "stream",
     "text": [
      "==========\n",
      "HeteroData(\n",
      "  \u001b[1muser\u001b[0m={ node_id=[20] },\n",
      "  \u001b[1misbn\u001b[0m={\n",
      "    node_id=[38],\n",
      "    x=[38, 8751]\n",
      "  },\n",
      "  \u001b[1m(user, review, isbn)\u001b[0m={\n",
      "    edge_index=[2, 74],\n",
      "    edge_label_index=[2, 3]\n",
      "  },\n",
      "  \u001b[1m(isbn, rev_review, user)\u001b[0m={ edge_index=[2, 74] }\n",
      ")\n"
     ]
    }
   ],
   "source": [
    "user_isbn_selection_ids = [0,8,70]\n",
    "alg_chose_books = [0,1,2]\n",
    "new_user_id = np.random.randint(1, high = 47074)\n",
    "\n",
    "\n",
    "new_user_to_isbn__edges, isbn_nodes_new_user, user_nodes_new_user =  build_graph_for_new_user(user_isbn_selection_ids,new_user_id )\n",
    "edge_index_user_to_isbn_new,user_node_id,isbn_node_id,isbn_x, data_dict = build_data_for_isbn_ls(alg_chose_books)\n",
    "\n",
    "ISBN_new_graph_nodes_id = list(set(isbn_nodes_new_user.tolist() + isbn_node_id))\n",
    "USER_new_graph_nodes_id = list(set(user_nodes_new_user.tolist() + user_node_id))\n",
    "ISBN_new_graph_nodes_id.sort()\n",
    "USER_new_graph_nodes_id.sort()\n",
    "\n",
    "\n",
    "ISBN_new_graph_isbn_x = get_isbn_x(ISBN_new_graph_nodes_id)\n",
    "ISBN_new_graph_edge_index_user_to_isbn_new = np.hstack((new_user_to_isbn__edges,edge_index_user_to_isbn_new))\n",
    "\n",
    "mapping_USER_new_graph_nodes_id = { user_id: index for index, user_id in enumerate(USER_new_graph_nodes_id)}\n",
    "mapping_ISBN_new_graph_nodes_id = { isbn_id: index for index, isbn_id in enumerate(ISBN_new_graph_nodes_id)}\n",
    "\n",
    "zero_a = np.zeros((ISBN_new_graph_edge_index_user_to_isbn_new.shape))\n",
    "zero_a[0] = [mapping_USER_new_graph_nodes_id[i] for index,i in enumerate(ISBN_new_graph_edge_index_user_to_isbn_new[0]) ]\n",
    "zero_a[1] = [mapping_ISBN_new_graph_nodes_id[i] for index,i in enumerate(ISBN_new_graph_edge_index_user_to_isbn_new[1]) ]\n",
    "ISBN_new_graph_edge_index_user_to_isbn_new = zero_a\n",
    "\n",
    "new_user_alg_chosen_books_edge_label_index = np.vstack((np.full((len(alg_chose_books)),new_user_id),np.array(alg_chose_books)))\n",
    "new_user_alg_chosen_books_edge_label_index[0] = [mapping_USER_new_graph_nodes_id[i] for index,i in enumerate(np.full((len(alg_chose_books)),new_user_id)) ]\n",
    "new_user_alg_chosen_books_edge_label_index[1] = [mapping_ISBN_new_graph_nodes_id[i] for index,i in enumerate(alg_chose_books) ]\n",
    "\n",
    "print('=' *10)\n",
    "\n",
    "graph_new = HeteroData()\n",
    "graph_new[\"user\"].node_id = torch.tensor(USER_new_graph_nodes_id).type(torch.int64)\n",
    "graph_new[\"isbn\"].node_id =torch.tensor(ISBN_new_graph_nodes_id).type(torch.int64)\n",
    "graph_new[\"isbn\"].x = ISBN_new_graph_isbn_x\n",
    "graph_new[\"user\", \"review\", \"isbn\"].edge_index  = torch.tensor(ISBN_new_graph_edge_index_user_to_isbn_new).type(torch.int64)\n",
    "graph_new = T.ToUndirected()(graph_new)\n",
    "graph_new[\"user\", \"review\", \"isbn\"].edge_label_index = torch.tensor(new_user_alg_chosen_books_edge_label_index).type(torch.int64)\n",
    "print(graph_new)\n",
    "\n"
   ]
  },
  {
   "cell_type": "code",
   "execution_count": 31,
   "metadata": {},
   "outputs": [],
   "source": [
    "\n",
    "filename = 'final_book_model.sav'\n",
    "gnn_loaded = pickle.load(open(filename, \"rb\"))"
   ]
  },
  {
   "cell_type": "code",
   "execution_count": 135,
   "metadata": {},
   "outputs": [
    {
     "data": {
      "text/plain": [
       "tensor([1.5093, 0.7828, 1.8166], grad_fn=<SumBackward1>)"
      ]
     },
     "execution_count": 135,
     "metadata": {},
     "output_type": "execute_result"
    }
   ],
   "source": [
    "gnn_loaded(graph_new) #[1.0938, 1.3862, 0.5819]"
   ]
  },
  {
   "cell_type": "markdown",
   "metadata": {},
   "source": [
    "### Algo for Books recommendation"
   ]
  },
  {
   "cell_type": "code",
   "execution_count": null,
   "metadata": {},
   "outputs": [],
   "source": []
  },
  {
   "cell_type": "code",
   "execution_count": null,
   "metadata": {},
   "outputs": [],
   "source": []
  },
  {
   "cell_type": "markdown",
   "metadata": {},
   "source": [
    "### Rest"
   ]
  },
  {
   "cell_type": "code",
   "execution_count": 246,
   "metadata": {},
   "outputs": [
    {
     "name": "stdout",
     "output_type": "stream",
     "text": [
      "isbn_to_user [[34305 43149  3921 35471     0]\n",
      " [    0     0     0     0     0]]\n",
      "isbn_to_user [[    0     0     0     0     0]\n",
      " [34305 43149  3921 35471     0]]\n",
      "isbn_to_user (2, 5)\n"
     ]
    }
   ],
   "source": [
    "print(f'isbn_to_user {isbn_to_user}')\n",
    "isbn_to_user[[0,1],:] = isbn_to_user[[1,0],:]  \n",
    "print(f'isbn_to_user {isbn_to_user}')\n",
    "print(f'isbn_to_user {isbn_to_user.shape}')"
   ]
  },
  {
   "cell_type": "code",
   "execution_count": 249,
   "metadata": {},
   "outputs": [
    {
     "data": {
      "text/plain": [
       "tensor([[    0,     0,     0,     0,     0, 34305, 34305, 34305, 34305, 34305,\n",
       "         43149, 43149, 43149,  3921,  3921,  3921, 35471, 35471,     0,     0,\n",
       "             0],\n",
       "        [34305, 43149,  3921, 35471,     0,  7585,     0, 24490,     0,   115,\n",
       "             0,  7022,     0,  1553,     0,     0,     0,     0,     1,     2,\n",
       "             0]])"
      ]
     },
     "execution_count": 249,
     "metadata": {},
     "output_type": "execute_result"
    }
   ],
   "source": [
    "b = np.hstack((isbn_to_user ,user_to_isbn))\n",
    "b.shape\n",
    "edge_index_user_to_isbn_new = torch.tensor(b).type(torch.int64)\n",
    "edge_index_user_to_isbn_new"
   ]
  },
  {
   "cell_type": "code",
   "execution_count": 262,
   "metadata": {},
   "outputs": [
    {
     "name": "stdout",
     "output_type": "stream",
     "text": [
      "user_node_id tensor([34305, 43149,  3921, 35471,     0])\n",
      "isbn_node_id tensor([    0, 34305,  7585,     1,     2, 24490, 43149,  7022, 35471,  3921,\n",
      "         1553,   115])\n",
      "isbn_x tensor([[2003.,    0.,    0.,  ...,    0.,    0.,    0.],\n",
      "        [1997.,    0.,    0.,  ...,    0.,    0.,    0.],\n",
      "        [2003.,    0.,    0.,  ...,    0.,    0.,    0.],\n",
      "        ...,\n",
      "        [1992.,    0.,    0.,  ...,    0.,    0.,    0.],\n",
      "        [1997.,    0.,    0.,  ...,    0.,    0.,    0.],\n",
      "        [1988.,    0.,    0.,  ...,    0.,    0.,    0.]], dtype=torch.float64)\n",
      "edge_index_user_isbn tensor([[    0,     0,     0,     0,     0, 34305, 34305, 34305, 34305, 34305,\n",
      "         43149, 43149, 43149,  3921,  3921,  3921, 35471, 35471,     0,     0,\n",
      "             0],\n",
      "        [34305, 43149,  3921, 35471,     0,  7585,     0, 24490,     0,   115,\n",
      "             0,  7022,     0,  1553,     0,     0,     0,     0,     1,     2,\n",
      "             0]])\n"
     ]
    }
   ],
   "source": [
    "user_node_id = torch.tensor(list(output_dict.keys()))\n",
    "isbn_node_id = torch.tensor(list(set(edge_index_user_to_isbn_new[1].tolist())))\n",
    "isbn_x = get_isbn_x(isbn_node_id)\n",
    "edge_index_user_isbn  = edge_index_user_to_isbn_new\n",
    "\n",
    "print(f'user_node_id {user_node_id}')\n",
    "print(f'isbn_node_id { isbn_node_id}')\n",
    "print(f'isbn_x { isbn_x}')\n",
    "print(f'edge_index_user_isbn { edge_index_user_isbn}')"
   ]
  },
  {
   "cell_type": "code",
   "execution_count": 263,
   "metadata": {},
   "outputs": [
    {
     "name": "stdout",
     "output_type": "stream",
     "text": [
      "HeteroData(\n",
      "  \u001b[1muser\u001b[0m={ node_id=[5] },\n",
      "  \u001b[1misbn\u001b[0m={\n",
      "    node_id=[12],\n",
      "    x=[12, 8751]\n",
      "  },\n",
      "  \u001b[1m(user, review, isbn)\u001b[0m={ edge_index=[2, 21] },\n",
      "  \u001b[1m(isbn, rev_review, user)\u001b[0m={ edge_index=[2, 21] }\n",
      ")\n"
     ]
    }
   ],
   "source": [
    "### Das macht noch keinen Sinn. Es müsste viel mehr nodes sein!!!\n",
    "data_new = HeteroData()\n",
    "\n",
    "data_new[\"user\"].node_id = user_node_id\n",
    "data_new[\"isbn\"].node_id =isbn_node_id\n",
    "data_new[\"isbn\"].x = isbn_x\n",
    "data_new[\"user\", \"review\", \"isbn\"].edge_index  = edge_index_user_isbn\n",
    "data_new = T.ToUndirected()(data_new)\n",
    "print(data_new)"
   ]
  },
  {
   "cell_type": "code",
   "execution_count": 253,
   "metadata": {},
   "outputs": [
    {
     "data": {
      "text/plain": [
       "tensor([[ 3067,  6735, 43730,  ..., 12915, 13919, 28637],\n",
       "        [12836,  4498, 24326,  ..., 38063, 40942,  1158]])"
      ]
     },
     "execution_count": 253,
     "metadata": {},
     "output_type": "execute_result"
    }
   ],
   "source": [
    "edge_label_index"
   ]
  },
  {
   "cell_type": "code",
   "execution_count": 199,
   "metadata": {},
   "outputs": [
    {
     "data": {
      "text/plain": [
       "HeteroData(\n",
       "  \u001b[1muser\u001b[0m={ node_id=[47074] },\n",
       "  \u001b[1misbn\u001b[0m={\n",
       "    node_id=[98417],\n",
       "    x=[98417, 8751]\n",
       "  },\n",
       "  \u001b[1m(user, review, isbn)\u001b[0m={ edge_index=[2, 223807] },\n",
       "  \u001b[1m(isbn, rev_review, user)\u001b[0m={ edge_index=[2, 223807] }\n",
       ")"
      ]
     },
     "execution_count": 199,
     "metadata": {},
     "output_type": "execute_result"
    }
   ],
   "source": [
    "data"
   ]
  },
  {
   "cell_type": "code",
   "execution_count": null,
   "metadata": {},
   "outputs": [],
   "source": [
    "data_new = HeteroData()\n",
    "\n",
    "data_new[\"user\"].node_id = torch.from_numpy(ratings_filtered_m.user_id_mapped.unique())\n",
    "data_new[\"isbn\"].node_id =torch.from_numpy(ratings_filtered_m.isbn_id_mapped.unique())\n",
    "data_new[\"isbn\"].x = torch_isbn\n",
    "data_new[\"user\", \"review\", \"isbn\"].edge_index  = edge_index_user_to_isbn\n",
    "data_new = T.ToUndirected()(data_new)\n",
    "print(data_new)"
   ]
  },
  {
   "cell_type": "markdown",
   "metadata": {},
   "source": []
  },
  {
   "cell_type": "code",
   "execution_count": 133,
   "metadata": {},
   "outputs": [
    {
     "data": {
      "text/plain": [
       "tensor([[    0,     0, 22109,  3950,   648,  8892,   804,  7274,  7042, 22110,\n",
       "         22111],\n",
       "        [    0,  6316,  6316,  6316,  6316,  6316,  6316,  6316,  6316,  6316,\n",
       "          6316]])"
      ]
     },
     "execution_count": 133,
     "metadata": {},
     "output_type": "execute_result"
    }
   ],
   "source": [
    "subset, edge_index_isbn_user, mapping, edge_mask = torch_geometric.utils.k_hop_subgraph( \n",
    "                                node_idx = 6316, \n",
    "                                num_hops = 1, \n",
    "                                edge_index = data[\"isbn\" , \"rev_review\", \"user\"].edge_index,\n",
    "                                \n",
    "                                )\n",
    "edge_index_isbn_user"
   ]
  },
  {
   "cell_type": "code",
   "execution_count": 97,
   "metadata": {},
   "outputs": [
    {
     "name": "stdout",
     "output_type": "stream",
     "text": [
      "\n",
      "subset: tensor([    0,  1023,  1830,  3921,  6316,  6735,  9322, 15128, 15390, 19178,\n",
      "        25420, 34305, 34405, 35471, 39439, 40464, 42045, 42490, 43149, 46197])\n",
      "edge_index: tensor([[    0,  1023,  1830,  3921,  6316,  6735,  9322, 15128, 15390, 19178,\n",
      "         25420, 34305, 34405, 35471, 39439, 40464, 42045, 42490, 43149, 46197],\n",
      "        [    0,     0,     0,     0,     0,     0,     0,     0,     0,     0,\n",
      "             0,     0,     0,     0,     0,     0,     0,     0,     0,     0]])\n",
      "mapping: tensor([0])\n",
      "edge_mask: tensor([ True, False, False,  ..., False, False, False])\n",
      "subset[mapping]: tensor([0])\n",
      "46198\n",
      "DiGraph with 46198 nodes and 20 edges\n"
     ]
    }
   ],
   "source": [
    "subset, edge_index, mapping, edge_mask = torch_geometric.utils.k_hop_subgraph(\n",
    "    node_idx = 0,\n",
    "    num_hops = 1,\n",
    "    edge_index = data[\"user\", \"review\", \"isbn\"].edge_index\n",
    "                                                                              )\n",
    "print()\n",
    "print(f'subset: {subset}')\n",
    "print(f'edge_index: {edge_index}')\n",
    "print(f'mapping: {mapping}')\n",
    "print(f'edge_mask: {edge_mask}')\n",
    "print(f'subset[mapping]: {subset[mapping]}')\n",
    "\n",
    "#print(len(edge_index[0]))\n",
    "t = Data(edge_index=edge_index)\n",
    "g = torch_geometric.utils.to_networkx(t)\n",
    "print(t.num_nodes)\n",
    "print(g)\n",
    "#nx.draw_networkx(g)\n"
   ]
  },
  {
   "cell_type": "code",
   "execution_count": 129,
   "metadata": {},
   "outputs": [
    {
     "name": "stdout",
     "output_type": "stream",
     "text": [
      "\n",
      "subset: tensor([   0,  115,  143,  312,  499,  575,  696,  741,  849,  988, 1023, 1032,\n",
      "        1033, 1042, 1079, 1112, 1152, 1267, 1316, 1485, 1489, 1975, 2522, 2934,\n",
      "        2939, 3013, 3047, 3160, 3280, 3291, 3344, 3346, 3347, 3348, 3349, 3350,\n",
      "        3351, 3352, 3353, 3354, 3355, 3356, 3357, 3358, 3359, 3360, 3361, 3362,\n",
      "        3363, 3364, 3365, 3366, 3367, 3368, 3369, 3370, 3371, 3372, 3373, 3374,\n",
      "        3375, 3376, 3377, 3378, 3379, 3380, 3381, 3382, 3383, 3384, 3385, 3386,\n",
      "        3387, 3388, 3389, 3390, 3391, 3392, 3393, 3394, 3395, 3396, 3397, 3398,\n",
      "        3399, 3400, 3401, 3402, 3403, 3404, 3405, 3406, 3407, 3408, 3409, 3410,\n",
      "        3411, 3412, 3413, 3414, 3415, 3416, 3417, 3418, 3419, 3420, 3421, 3422,\n",
      "        3423, 3424, 3425, 3426, 3427, 3428, 3429, 3430, 3431, 3432, 3433, 3434,\n",
      "        3435, 3436, 3437, 3438, 3439, 3440, 3441, 3442, 3443, 3444, 3445, 3446,\n",
      "        3447, 3448, 3449, 3450, 3451, 3452])\n",
      "edge_index: tensor([[   0,  696, 3346, 3347,    0, 1152, 3348, 3349, 3350,  143, 3351, 3352,\n",
      "         3047, 3353, 3354, 3355, 3356, 3357, 3358, 1489,  741, 1079, 1316, 3359,\n",
      "         3360, 3361, 3362, 3363, 3364, 2934, 3365, 3366, 3367, 1032, 3368, 1033,\n",
      "         3369, 3370, 3371, 3372, 2939, 3373, 3374, 3375,  988, 3291, 3376, 3377,\n",
      "         3378, 3379, 3380, 3381, 3382, 3383, 3384, 3385,  499, 3386, 1975, 3387,\n",
      "         3388, 3389, 3390, 3391, 3392, 3393, 3394, 3395, 3396, 3397, 3398, 3399,\n",
      "          312,  575, 3400, 3401, 3402, 3403, 3404, 3405, 3406, 3407, 3408, 3409,\n",
      "          115, 1112, 3410, 1485, 2522, 3411, 3412, 3413, 3414, 3415, 3416, 3417,\n",
      "         3418, 3419, 3420, 3421, 1042,  849, 3422, 3423, 3424, 3425, 3426, 3427,\n",
      "         3428,  696, 3429, 3344, 1267, 3430, 3431, 3432, 3433, 3434, 3013, 3435,\n",
      "         3436, 3437, 3438, 3439, 3440, 3280, 3441, 3442, 3443, 3444, 3445, 3446,\n",
      "         3447, 3448, 3449, 3450, 3451, 3160, 3452, 3382, 1042,  696],\n",
      "        [   0,  499, 1023, 1023, 1023, 1023, 1023, 1023, 1023, 1023, 1023, 1023,\n",
      "         1023, 1023, 1023, 1023, 1023, 1023, 1023, 1023, 1023, 1023, 1023, 1023,\n",
      "         1023, 1023, 1023, 1023, 1023, 1023, 1023, 1023, 1023, 1023, 1023, 1023,\n",
      "         1023, 1023, 1023, 1023, 1023, 1023, 1023, 1023, 1023, 1023, 1023, 1023,\n",
      "         1023, 1023, 1023, 1023, 1023, 1023, 1023, 1023, 1023, 1023, 1023, 1023,\n",
      "         1023, 1023, 1023, 1023, 1023, 1023, 1023, 1023, 1023, 1023, 1023, 1023,\n",
      "         1023, 1023, 1023, 1023, 1023, 1023, 1023, 1023, 1023, 1023, 1023, 1023,\n",
      "         1023, 1023, 1023, 1023, 1023, 1023, 1023, 1023, 1023, 1023, 1023, 1023,\n",
      "         1023, 1023, 1023, 1023, 1023, 1023, 1023, 1023, 1023, 1023, 1023, 1023,\n",
      "         1023, 1023, 1023, 1023, 1023, 1023, 1023, 1023, 1023, 1023, 1023, 1023,\n",
      "         1023, 1023, 1023, 1023, 1023, 1023, 1023, 1023, 1023, 1023, 1023, 1023,\n",
      "         1023, 1023, 1023, 1023, 1023, 1023, 1023, 3013, 3013, 3362]])\n",
      "mapping: tensor([10])\n",
      "edge_mask: tensor([ True, False, False,  ..., False, False, False])\n",
      "subset[mapping]: tensor([1023])\n",
      "torch.Size([2, 142])\n",
      "[3399 1975 3447 3433 3349]\n"
     ]
    },
    {
     "name": "stderr",
     "output_type": "stream",
     "text": [
      "c:\\Users\\morit\\Documents\\Python Scripts\\me\\lib\\site-packages\\torch_geometric\\data\\storage.py:304: UserWarning: Unable to accurately infer 'num_nodes' from the attribute set '{'edge_index'}'. Please explicitly set 'num_nodes' as an attribute of 'data' to suppress this warning\n",
      "  warnings.warn(\n"
     ]
    }
   ],
   "source": [
    "subset, edge_index, mapping, edge_mask = torch_geometric.utils.k_hop_subgraph( \n",
    "                                node_idx = 1023, \n",
    "                                num_hops = 1, \n",
    "                                edge_index = data[\"isbn\" , \"rev_review\", \"user\"].edge_index,\n",
    "                                \n",
    "                                )\n",
    "print()\n",
    "print(f'subset: {subset}')\n",
    "print(f'edge_index: {edge_index}')\n",
    "print(f'mapping: {mapping}')\n",
    "print(f'edge_mask: {edge_mask}')\n",
    "print(f'subset[mapping]: {subset[mapping]}')\n",
    "\n",
    "t = Data(edge_index=edge_index)\n",
    "\n",
    "g = torch_geometric.utils.to_networkx(t)\n",
    "\n",
    "#nx.draw_networkx(g)\n",
    "\n",
    "print(edge_index.shape)\n",
    "a = np.random.choice(edge_index[0],size =5, replace=False)\n",
    "print(a)"
   ]
  },
  {
   "cell_type": "code",
   "execution_count": 123,
   "metadata": {},
   "outputs": [
    {
     "name": "stdout",
     "output_type": "stream",
     "text": [
      "0060517794\n",
      "<class 'pandas.core.frame.DataFrame'>\n",
      "Int64Index: 137 entries, 20752 to 20958\n",
      "Data columns (total 3 columns):\n",
      " #   Column       Non-Null Count  Dtype \n",
      "---  ------       --------------  ----- \n",
      " 0   User-ID      137 non-null    int64 \n",
      " 1   ISBN         137 non-null    object\n",
      " 2   Book-Rating  137 non-null    int64 \n",
      "dtypes: int64(2), object(1)\n",
      "memory usage: 4.3+ KB\n",
      "None\n"
     ]
    },
    {
     "data": {
      "text/html": [
       "<div>\n",
       "<style scoped>\n",
       "    .dataframe tbody tr th:only-of-type {\n",
       "        vertical-align: middle;\n",
       "    }\n",
       "\n",
       "    .dataframe tbody tr th {\n",
       "        vertical-align: top;\n",
       "    }\n",
       "\n",
       "    .dataframe thead th {\n",
       "        text-align: right;\n",
       "    }\n",
       "</style>\n",
       "<table border=\"1\" class=\"dataframe\">\n",
       "  <thead>\n",
       "    <tr style=\"text-align: right;\">\n",
       "      <th></th>\n",
       "      <th>User-ID</th>\n",
       "      <th>ISBN</th>\n",
       "      <th>Book-Rating</th>\n",
       "    </tr>\n",
       "  </thead>\n",
       "  <tbody>\n",
       "    <tr>\n",
       "      <th>20755</th>\n",
       "      <td>4017</td>\n",
       "      <td>0060517794</td>\n",
       "      <td>10</td>\n",
       "    </tr>\n",
       "  </tbody>\n",
       "</table>\n",
       "</div>"
      ],
      "text/plain": [
       "       User-ID        ISBN  Book-Rating\n",
       "20755     4017  0060517794           10"
      ]
     },
     "execution_count": 123,
     "metadata": {},
     "output_type": "execute_result"
    }
   ],
   "source": [
    "user_key = [k for k, v in mapping_user.items() if v == 1023][0]\n",
    "isbn_key = [k for k, v in mapping_item.items() if v == 0][0]\n",
    "print(isbn_key)\n",
    "a = ratings_filtered.loc[ratings_filtered[\"User-ID\" ] == user_key]\n",
    "print(a.info())\n",
    "\n",
    "a = ratings_filtered.loc[(ratings_filtered[\"User-ID\" ] == user_key ) & (ratings_filtered[\"ISBN\" ] == str(isbn_key) )]\n",
    "a"
   ]
  },
  {
   "cell_type": "markdown",
   "metadata": {},
   "source": [
    "# Book_Crossing"
   ]
  },
  {
   "cell_type": "markdown",
   "metadata": {},
   "source": [
    "### Dataset Loading and First Steps"
   ]
  },
  {
   "cell_type": "code",
   "execution_count": 2,
   "metadata": {},
   "outputs": [],
   "source": [
    "url = 'http://www2.informatik.uni-freiburg.de/~cziegler/BX/BX-CSV-Dump.zip'\n",
    "with urlopen(url) as zurl:\n",
    "    with ZipFile(BytesIO(zurl.read())) as zfile:\n",
    "        zfile.extractall('.')"
   ]
  },
  {
   "cell_type": "code",
   "execution_count": 2,
   "metadata": {},
   "outputs": [
    {
     "name": "stderr",
     "output_type": "stream",
     "text": [
      "C:\\Users\\morit\\AppData\\Local\\Temp\\ipykernel_43740\\739501304.py:3: DtypeWarning: Columns (3) have mixed types. Specify dtype option on import or set low_memory=False.\n",
      "  books = pd.read_csv('BX-Books.csv', sep=';', encoding='latin-1', on_bad_lines=\"skip\")\n"
     ]
    }
   ],
   "source": [
    "ratings = pd.read_csv('BX-Book-Ratings.csv', sep=';', encoding='latin-1')\n",
    "users = pd.read_csv('BX-Users.csv', sep=';', encoding='latin-1')\n",
    "books = pd.read_csv('BX-Books.csv', sep=';', encoding='latin-1', on_bad_lines=\"skip\")"
   ]
  },
  {
   "cell_type": "code",
   "execution_count": 7,
   "metadata": {},
   "outputs": [
    {
     "name": "stdout",
     "output_type": "stream",
     "text": [
      "<class 'pandas.core.frame.DataFrame'>\n",
      "RangeIndex: 1149780 entries, 0 to 1149779\n",
      "Data columns (total 3 columns):\n",
      " #   Column       Non-Null Count    Dtype \n",
      "---  ------       --------------    ----- \n",
      " 0   User-ID      1149780 non-null  int64 \n",
      " 1   ISBN         1149780 non-null  object\n",
      " 2   Book-Rating  1149780 non-null  int64 \n",
      "dtypes: int64(2), object(1)\n",
      "memory usage: 26.3+ MB\n"
     ]
    }
   ],
   "source": [
    "ratings.info()"
   ]
  },
  {
   "cell_type": "code",
   "execution_count": 8,
   "metadata": {},
   "outputs": [
    {
     "data": {
      "text/html": [
       "<div>\n",
       "<style scoped>\n",
       "    .dataframe tbody tr th:only-of-type {\n",
       "        vertical-align: middle;\n",
       "    }\n",
       "\n",
       "    .dataframe tbody tr th {\n",
       "        vertical-align: top;\n",
       "    }\n",
       "\n",
       "    .dataframe thead th {\n",
       "        text-align: right;\n",
       "    }\n",
       "</style>\n",
       "<table border=\"1\" class=\"dataframe\">\n",
       "  <thead>\n",
       "    <tr style=\"text-align: right;\">\n",
       "      <th></th>\n",
       "      <th>User-ID</th>\n",
       "      <th>ISBN</th>\n",
       "      <th>Book-Rating</th>\n",
       "    </tr>\n",
       "  </thead>\n",
       "  <tbody>\n",
       "    <tr>\n",
       "      <th>0</th>\n",
       "      <td>276725</td>\n",
       "      <td>034545104X</td>\n",
       "      <td>0</td>\n",
       "    </tr>\n",
       "    <tr>\n",
       "      <th>1</th>\n",
       "      <td>276726</td>\n",
       "      <td>0155061224</td>\n",
       "      <td>5</td>\n",
       "    </tr>\n",
       "    <tr>\n",
       "      <th>2</th>\n",
       "      <td>276727</td>\n",
       "      <td>0446520802</td>\n",
       "      <td>0</td>\n",
       "    </tr>\n",
       "    <tr>\n",
       "      <th>3</th>\n",
       "      <td>276729</td>\n",
       "      <td>052165615X</td>\n",
       "      <td>3</td>\n",
       "    </tr>\n",
       "    <tr>\n",
       "      <th>4</th>\n",
       "      <td>276729</td>\n",
       "      <td>0521795028</td>\n",
       "      <td>6</td>\n",
       "    </tr>\n",
       "    <tr>\n",
       "      <th>...</th>\n",
       "      <td>...</td>\n",
       "      <td>...</td>\n",
       "      <td>...</td>\n",
       "    </tr>\n",
       "    <tr>\n",
       "      <th>1149775</th>\n",
       "      <td>276704</td>\n",
       "      <td>1563526298</td>\n",
       "      <td>9</td>\n",
       "    </tr>\n",
       "    <tr>\n",
       "      <th>1149776</th>\n",
       "      <td>276706</td>\n",
       "      <td>0679447156</td>\n",
       "      <td>0</td>\n",
       "    </tr>\n",
       "    <tr>\n",
       "      <th>1149777</th>\n",
       "      <td>276709</td>\n",
       "      <td>0515107662</td>\n",
       "      <td>10</td>\n",
       "    </tr>\n",
       "    <tr>\n",
       "      <th>1149778</th>\n",
       "      <td>276721</td>\n",
       "      <td>0590442449</td>\n",
       "      <td>10</td>\n",
       "    </tr>\n",
       "    <tr>\n",
       "      <th>1149779</th>\n",
       "      <td>276723</td>\n",
       "      <td>05162443314</td>\n",
       "      <td>8</td>\n",
       "    </tr>\n",
       "  </tbody>\n",
       "</table>\n",
       "<p>1149780 rows × 3 columns</p>\n",
       "</div>"
      ],
      "text/plain": [
       "         User-ID         ISBN  Book-Rating\n",
       "0         276725   034545104X            0\n",
       "1         276726   0155061224            5\n",
       "2         276727   0446520802            0\n",
       "3         276729   052165615X            3\n",
       "4         276729   0521795028            6\n",
       "...          ...          ...          ...\n",
       "1149775   276704   1563526298            9\n",
       "1149776   276706   0679447156            0\n",
       "1149777   276709   0515107662           10\n",
       "1149778   276721   0590442449           10\n",
       "1149779   276723  05162443314            8\n",
       "\n",
       "[1149780 rows x 3 columns]"
      ]
     },
     "execution_count": 8,
     "metadata": {},
     "output_type": "execute_result"
    }
   ],
   "source": [
    "ratings"
   ]
  },
  {
   "cell_type": "code",
   "execution_count": 9,
   "metadata": {},
   "outputs": [
    {
     "data": {
      "text/html": [
       "<div>\n",
       "<style scoped>\n",
       "    .dataframe tbody tr th:only-of-type {\n",
       "        vertical-align: middle;\n",
       "    }\n",
       "\n",
       "    .dataframe tbody tr th {\n",
       "        vertical-align: top;\n",
       "    }\n",
       "\n",
       "    .dataframe thead th {\n",
       "        text-align: right;\n",
       "    }\n",
       "</style>\n",
       "<table border=\"1\" class=\"dataframe\">\n",
       "  <thead>\n",
       "    <tr style=\"text-align: right;\">\n",
       "      <th></th>\n",
       "      <th>User-ID</th>\n",
       "      <th>Location</th>\n",
       "      <th>Age</th>\n",
       "    </tr>\n",
       "  </thead>\n",
       "  <tbody>\n",
       "    <tr>\n",
       "      <th>0</th>\n",
       "      <td>1</td>\n",
       "      <td>nyc, new york, usa</td>\n",
       "      <td>NaN</td>\n",
       "    </tr>\n",
       "    <tr>\n",
       "      <th>1</th>\n",
       "      <td>2</td>\n",
       "      <td>stockton, california, usa</td>\n",
       "      <td>18.0</td>\n",
       "    </tr>\n",
       "    <tr>\n",
       "      <th>2</th>\n",
       "      <td>3</td>\n",
       "      <td>moscow, yukon territory, russia</td>\n",
       "      <td>NaN</td>\n",
       "    </tr>\n",
       "    <tr>\n",
       "      <th>3</th>\n",
       "      <td>4</td>\n",
       "      <td>porto, v.n.gaia, portugal</td>\n",
       "      <td>17.0</td>\n",
       "    </tr>\n",
       "    <tr>\n",
       "      <th>4</th>\n",
       "      <td>5</td>\n",
       "      <td>farnborough, hants, united kingdom</td>\n",
       "      <td>NaN</td>\n",
       "    </tr>\n",
       "    <tr>\n",
       "      <th>...</th>\n",
       "      <td>...</td>\n",
       "      <td>...</td>\n",
       "      <td>...</td>\n",
       "    </tr>\n",
       "    <tr>\n",
       "      <th>278853</th>\n",
       "      <td>278854</td>\n",
       "      <td>portland, oregon, usa</td>\n",
       "      <td>NaN</td>\n",
       "    </tr>\n",
       "    <tr>\n",
       "      <th>278854</th>\n",
       "      <td>278855</td>\n",
       "      <td>tacoma, washington, united kingdom</td>\n",
       "      <td>50.0</td>\n",
       "    </tr>\n",
       "    <tr>\n",
       "      <th>278855</th>\n",
       "      <td>278856</td>\n",
       "      <td>brampton, ontario, canada</td>\n",
       "      <td>NaN</td>\n",
       "    </tr>\n",
       "    <tr>\n",
       "      <th>278856</th>\n",
       "      <td>278857</td>\n",
       "      <td>knoxville, tennessee, usa</td>\n",
       "      <td>NaN</td>\n",
       "    </tr>\n",
       "    <tr>\n",
       "      <th>278857</th>\n",
       "      <td>278858</td>\n",
       "      <td>dublin, n/a, ireland</td>\n",
       "      <td>NaN</td>\n",
       "    </tr>\n",
       "  </tbody>\n",
       "</table>\n",
       "<p>278858 rows × 3 columns</p>\n",
       "</div>"
      ],
      "text/plain": [
       "        User-ID                            Location   Age\n",
       "0             1                  nyc, new york, usa   NaN\n",
       "1             2           stockton, california, usa  18.0\n",
       "2             3     moscow, yukon territory, russia   NaN\n",
       "3             4           porto, v.n.gaia, portugal  17.0\n",
       "4             5  farnborough, hants, united kingdom   NaN\n",
       "...         ...                                 ...   ...\n",
       "278853   278854               portland, oregon, usa   NaN\n",
       "278854   278855  tacoma, washington, united kingdom  50.0\n",
       "278855   278856           brampton, ontario, canada   NaN\n",
       "278856   278857           knoxville, tennessee, usa   NaN\n",
       "278857   278858                dublin, n/a, ireland   NaN\n",
       "\n",
       "[278858 rows x 3 columns]"
      ]
     },
     "execution_count": 9,
     "metadata": {},
     "output_type": "execute_result"
    }
   ],
   "source": [
    "users"
   ]
  },
  {
   "cell_type": "code",
   "execution_count": 10,
   "metadata": {},
   "outputs": [
    {
     "name": "stdout",
     "output_type": "stream",
     "text": [
      "<class 'pandas.core.frame.DataFrame'>\n",
      "RangeIndex: 271360 entries, 0 to 271359\n",
      "Data columns (total 8 columns):\n",
      " #   Column               Non-Null Count   Dtype \n",
      "---  ------               --------------   ----- \n",
      " 0   ISBN                 271360 non-null  object\n",
      " 1   Book-Title           271360 non-null  object\n",
      " 2   Book-Author          271358 non-null  object\n",
      " 3   Year-Of-Publication  271360 non-null  object\n",
      " 4   Publisher            271358 non-null  object\n",
      " 5   Image-URL-S          271360 non-null  object\n",
      " 6   Image-URL-M          271360 non-null  object\n",
      " 7   Image-URL-L          271357 non-null  object\n",
      "dtypes: object(8)\n",
      "memory usage: 16.6+ MB\n"
     ]
    }
   ],
   "source": [
    "books.info()"
   ]
  },
  {
   "cell_type": "code",
   "execution_count": 7,
   "metadata": {},
   "outputs": [
    {
     "data": {
      "text/html": [
       "<div>\n",
       "<style scoped>\n",
       "    .dataframe tbody tr th:only-of-type {\n",
       "        vertical-align: middle;\n",
       "    }\n",
       "\n",
       "    .dataframe tbody tr th {\n",
       "        vertical-align: top;\n",
       "    }\n",
       "\n",
       "    .dataframe thead th {\n",
       "        text-align: right;\n",
       "    }\n",
       "</style>\n",
       "<table border=\"1\" class=\"dataframe\">\n",
       "  <thead>\n",
       "    <tr style=\"text-align: right;\">\n",
       "      <th></th>\n",
       "      <th>ISBN</th>\n",
       "      <th>Book-Title</th>\n",
       "      <th>Book-Author</th>\n",
       "      <th>Year-Of-Publication</th>\n",
       "      <th>Publisher</th>\n",
       "      <th>Image-URL-S</th>\n",
       "      <th>Image-URL-M</th>\n",
       "      <th>Image-URL-L</th>\n",
       "    </tr>\n",
       "  </thead>\n",
       "  <tbody>\n",
       "    <tr>\n",
       "      <th>0</th>\n",
       "      <td>0195153448</td>\n",
       "      <td>Classical Mythology</td>\n",
       "      <td>Mark P. O. Morford</td>\n",
       "      <td>2002</td>\n",
       "      <td>Oxford University Press</td>\n",
       "      <td>http://images.amazon.com/images/P/0195153448.0...</td>\n",
       "      <td>http://images.amazon.com/images/P/0195153448.0...</td>\n",
       "      <td>http://images.amazon.com/images/P/0195153448.0...</td>\n",
       "    </tr>\n",
       "    <tr>\n",
       "      <th>1</th>\n",
       "      <td>0002005018</td>\n",
       "      <td>Clara Callan</td>\n",
       "      <td>Richard Bruce Wright</td>\n",
       "      <td>2001</td>\n",
       "      <td>HarperFlamingo Canada</td>\n",
       "      <td>http://images.amazon.com/images/P/0002005018.0...</td>\n",
       "      <td>http://images.amazon.com/images/P/0002005018.0...</td>\n",
       "      <td>http://images.amazon.com/images/P/0002005018.0...</td>\n",
       "    </tr>\n",
       "    <tr>\n",
       "      <th>2</th>\n",
       "      <td>0060973129</td>\n",
       "      <td>Decision in Normandy</td>\n",
       "      <td>Carlo D'Este</td>\n",
       "      <td>1991</td>\n",
       "      <td>HarperPerennial</td>\n",
       "      <td>http://images.amazon.com/images/P/0060973129.0...</td>\n",
       "      <td>http://images.amazon.com/images/P/0060973129.0...</td>\n",
       "      <td>http://images.amazon.com/images/P/0060973129.0...</td>\n",
       "    </tr>\n",
       "    <tr>\n",
       "      <th>3</th>\n",
       "      <td>0374157065</td>\n",
       "      <td>Flu: The Story of the Great Influenza Pandemic...</td>\n",
       "      <td>Gina Bari Kolata</td>\n",
       "      <td>1999</td>\n",
       "      <td>Farrar Straus Giroux</td>\n",
       "      <td>http://images.amazon.com/images/P/0374157065.0...</td>\n",
       "      <td>http://images.amazon.com/images/P/0374157065.0...</td>\n",
       "      <td>http://images.amazon.com/images/P/0374157065.0...</td>\n",
       "    </tr>\n",
       "    <tr>\n",
       "      <th>4</th>\n",
       "      <td>0393045218</td>\n",
       "      <td>The Mummies of Urumchi</td>\n",
       "      <td>E. J. W. Barber</td>\n",
       "      <td>1999</td>\n",
       "      <td>W. W. Norton &amp;amp; Company</td>\n",
       "      <td>http://images.amazon.com/images/P/0393045218.0...</td>\n",
       "      <td>http://images.amazon.com/images/P/0393045218.0...</td>\n",
       "      <td>http://images.amazon.com/images/P/0393045218.0...</td>\n",
       "    </tr>\n",
       "  </tbody>\n",
       "</table>\n",
       "</div>"
      ],
      "text/plain": [
       "         ISBN                                         Book-Title  \\\n",
       "0  0195153448                                Classical Mythology   \n",
       "1  0002005018                                       Clara Callan   \n",
       "2  0060973129                               Decision in Normandy   \n",
       "3  0374157065  Flu: The Story of the Great Influenza Pandemic...   \n",
       "4  0393045218                             The Mummies of Urumchi   \n",
       "\n",
       "            Book-Author Year-Of-Publication                   Publisher  \\\n",
       "0    Mark P. O. Morford                2002     Oxford University Press   \n",
       "1  Richard Bruce Wright                2001       HarperFlamingo Canada   \n",
       "2          Carlo D'Este                1991             HarperPerennial   \n",
       "3      Gina Bari Kolata                1999        Farrar Straus Giroux   \n",
       "4       E. J. W. Barber                1999  W. W. Norton &amp; Company   \n",
       "\n",
       "                                         Image-URL-S  \\\n",
       "0  http://images.amazon.com/images/P/0195153448.0...   \n",
       "1  http://images.amazon.com/images/P/0002005018.0...   \n",
       "2  http://images.amazon.com/images/P/0060973129.0...   \n",
       "3  http://images.amazon.com/images/P/0374157065.0...   \n",
       "4  http://images.amazon.com/images/P/0393045218.0...   \n",
       "\n",
       "                                         Image-URL-M  \\\n",
       "0  http://images.amazon.com/images/P/0195153448.0...   \n",
       "1  http://images.amazon.com/images/P/0002005018.0...   \n",
       "2  http://images.amazon.com/images/P/0060973129.0...   \n",
       "3  http://images.amazon.com/images/P/0374157065.0...   \n",
       "4  http://images.amazon.com/images/P/0393045218.0...   \n",
       "\n",
       "                                         Image-URL-L  \n",
       "0  http://images.amazon.com/images/P/0195153448.0...  \n",
       "1  http://images.amazon.com/images/P/0002005018.0...  \n",
       "2  http://images.amazon.com/images/P/0060973129.0...  \n",
       "3  http://images.amazon.com/images/P/0374157065.0...  \n",
       "4  http://images.amazon.com/images/P/0393045218.0...  "
      ]
     },
     "execution_count": 7,
     "metadata": {},
     "output_type": "execute_result"
    }
   ],
   "source": [
    "books.head(5)\n",
    "#print(books[\"Image-URL-M\"].values[1])"
   ]
  },
  {
   "cell_type": "code",
   "execution_count": 8,
   "metadata": {},
   "outputs": [
    {
     "name": "stdout",
     "output_type": "stream",
     "text": [
      "102024\n",
      "271360\n"
     ]
    },
    {
     "name": "stdout",
     "output_type": "stream",
     "text": [
      "340556\n"
     ]
    }
   ],
   "source": [
    "print(len(books[\"Book-Author\"].unique()))\n",
    "print(len(books[\"ISBN\"].unique()))\n",
    "print(len(ratings[\"ISBN\"].unique()))"
   ]
  },
  {
   "cell_type": "code",
   "execution_count": 9,
   "metadata": {},
   "outputs": [
    {
     "data": {
      "text/plain": [
       "<Axes: xlabel='Book-Rating', ylabel='count'>"
      ]
     },
     "execution_count": 9,
     "metadata": {},
     "output_type": "execute_result"
    },
    {
     "data": {
      "image/png": "[encoded data removed]",
      "text/plain": [
       "<Figure size 640x480 with 1 Axes>"
      ]
     },
     "metadata": {},
     "output_type": "display_data"
    }
   ],
   "source": [
    "sns.countplot(x =ratings[\"Book-Rating\"])"
   ]
  },
  {
   "cell_type": "markdown",
   "metadata": {},
   "source": [
    "### Data Preprocessing -> Data Generation"
   ]
  },
  {
   "cell_type": "code",
   "execution_count": 3,
   "metadata": {},
   "outputs": [],
   "source": [
    "ratings_filtered = ratings.loc[ratings[\"Book-Rating\"] >= 8]\n",
    "#sns.countplot(x =ratings_filtered[\"Book-Rating\"])\n",
    "ratings_filtered = ratings_filtered.loc[ratings_filtered['ISBN'].isin(books['ISBN'].unique()) & ratings_filtered['User-ID'].isin(users['User-ID'].unique())]"
   ]
  },
  {
   "cell_type": "code",
   "execution_count": 4,
   "metadata": {},
   "outputs": [],
   "source": [
    "# Mappings\n",
    "mapping_user = { user_id: index for index, user_id in enumerate(ratings_filtered[\"User-ID\"].unique())}\n",
    "mapping_item = { isbn_id: index for index, isbn_id in enumerate(ratings_filtered[\"ISBN\"].unique())}"
   ]
  },
  {
   "cell_type": "code",
   "execution_count": 5,
   "metadata": {},
   "outputs": [
    {
     "name": "stdout",
     "output_type": "stream",
     "text": [
      "df_mapping_user: \n",
      "   user_id  user_id_mapped\n",
      "0   276747               0\n",
      "1   276751               1\n",
      "2   276754               2\n",
      "3   276762               3\n",
      "4   276772               4\n",
      "====================\n",
      "df_mapping_item: \n",
      "      isbn_id  isbn_id_mapped\n",
      "0  0060517794               0\n",
      "1  0671537458               1\n",
      "2  0679776818               2\n",
      "3  3596218098               3\n",
      "4  0684867621               4\n"
     ]
    }
   ],
   "source": [
    "df_mapping_user = pd.DataFrame()\n",
    "df_mapping_user[\"user_id\"] = mapping_user.keys()\n",
    "df_mapping_user[\"user_id_mapped\"] = mapping_user.values()\n",
    "\n",
    "df_mapping_item = pd.DataFrame()\n",
    "df_mapping_item[\"isbn_id\"] = mapping_item.keys()\n",
    "df_mapping_item[\"isbn_id_mapped\"] = mapping_item.values()\n",
    "\n",
    "print(f'df_mapping_user: ')\n",
    "print(f'{df_mapping_user.head()}')\n",
    "print(\"==\"*10)\n",
    "print(f'df_mapping_item: ')\n",
    "print(f'{df_mapping_item.head()}')"
   ]
  },
  {
   "cell_type": "code",
   "execution_count": 6,
   "metadata": {},
   "outputs": [
    {
     "data": {
      "text/html": [
       "<div>\n",
       "<style scoped>\n",
       "    .dataframe tbody tr th:only-of-type {\n",
       "        vertical-align: middle;\n",
       "    }\n",
       "\n",
       "    .dataframe tbody tr th {\n",
       "        vertical-align: top;\n",
       "    }\n",
       "\n",
       "    .dataframe thead th {\n",
       "        text-align: right;\n",
       "    }\n",
       "</style>\n",
       "<table border=\"1\" class=\"dataframe\">\n",
       "  <thead>\n",
       "    <tr style=\"text-align: right;\">\n",
       "      <th></th>\n",
       "      <th>User-ID</th>\n",
       "      <th>ISBN</th>\n",
       "      <th>Book-Rating</th>\n",
       "      <th>user_id</th>\n",
       "      <th>user_id_mapped</th>\n",
       "      <th>isbn_id</th>\n",
       "      <th>isbn_id_mapped</th>\n",
       "    </tr>\n",
       "  </thead>\n",
       "  <tbody>\n",
       "    <tr>\n",
       "      <th>0</th>\n",
       "      <td>276747</td>\n",
       "      <td>0060517794</td>\n",
       "      <td>9</td>\n",
       "      <td>276747</td>\n",
       "      <td>0</td>\n",
       "      <td>0060517794</td>\n",
       "      <td>0</td>\n",
       "    </tr>\n",
       "    <tr>\n",
       "      <th>1</th>\n",
       "      <td>276747</td>\n",
       "      <td>0671537458</td>\n",
       "      <td>9</td>\n",
       "      <td>276747</td>\n",
       "      <td>0</td>\n",
       "      <td>0671537458</td>\n",
       "      <td>1</td>\n",
       "    </tr>\n",
       "    <tr>\n",
       "      <th>2</th>\n",
       "      <td>276747</td>\n",
       "      <td>0679776818</td>\n",
       "      <td>8</td>\n",
       "      <td>276747</td>\n",
       "      <td>0</td>\n",
       "      <td>0679776818</td>\n",
       "      <td>2</td>\n",
       "    </tr>\n",
       "    <tr>\n",
       "      <th>3</th>\n",
       "      <td>276751</td>\n",
       "      <td>3596218098</td>\n",
       "      <td>8</td>\n",
       "      <td>276751</td>\n",
       "      <td>1</td>\n",
       "      <td>3596218098</td>\n",
       "      <td>3</td>\n",
       "    </tr>\n",
       "    <tr>\n",
       "      <th>4</th>\n",
       "      <td>276754</td>\n",
       "      <td>0684867621</td>\n",
       "      <td>8</td>\n",
       "      <td>276754</td>\n",
       "      <td>2</td>\n",
       "      <td>0684867621</td>\n",
       "      <td>4</td>\n",
       "    </tr>\n",
       "  </tbody>\n",
       "</table>\n",
       "</div>"
      ],
      "text/plain": [
       "   User-ID        ISBN  Book-Rating  user_id  user_id_mapped     isbn_id  \\\n",
       "0   276747  0060517794            9   276747               0  0060517794   \n",
       "1   276747  0671537458            9   276747               0  0671537458   \n",
       "2   276747  0679776818            8   276747               0  0679776818   \n",
       "3   276751  3596218098            8   276751               1  3596218098   \n",
       "4   276754  0684867621            8   276754               2  0684867621   \n",
       "\n",
       "   isbn_id_mapped  \n",
       "0               0  \n",
       "1               1  \n",
       "2               2  \n",
       "3               3  \n",
       "4               4  "
      ]
     },
     "execution_count": 6,
     "metadata": {},
     "output_type": "execute_result"
    }
   ],
   "source": [
    "ratings_filtered_m = ratings_filtered.merge(df_mapping_user, left_on = \"User-ID\", right_on=\"user_id\", how = \"left\")\n",
    "ratings_filtered_m = ratings_filtered_m.merge(df_mapping_item, left_on = \"ISBN\", right_on=\"isbn_id\", how = \"left\")\n",
    "ratings_filtered_m.head()"
   ]
  },
  {
   "cell_type": "code",
   "execution_count": 7,
   "metadata": {},
   "outputs": [
    {
     "name": "stdout",
     "output_type": "stream",
     "text": [
      "<class 'pandas.core.frame.DataFrame'>\n",
      "RangeIndex: 223807 entries, 0 to 223806\n",
      "Data columns (total 7 columns):\n",
      " #   Column          Non-Null Count   Dtype \n",
      "---  ------          --------------   ----- \n",
      " 0   User-ID         223807 non-null  int64 \n",
      " 1   ISBN            223807 non-null  object\n",
      " 2   Book-Rating     223807 non-null  int64 \n",
      " 3   user_id         223807 non-null  int64 \n",
      " 4   user_id_mapped  223807 non-null  int64 \n",
      " 5   isbn_id         223807 non-null  object\n",
      " 6   isbn_id_mapped  223807 non-null  int64 \n",
      "dtypes: int64(5), object(2)\n",
      "memory usage: 12.0+ MB\n"
     ]
    }
   ],
   "source": [
    "ratings_filtered_m.info()"
   ]
  },
  {
   "cell_type": "code",
   "execution_count": 8,
   "metadata": {},
   "outputs": [
    {
     "data": {
      "text/html": [
       "<div>\n",
       "<style scoped>\n",
       "    .dataframe tbody tr th:only-of-type {\n",
       "        vertical-align: middle;\n",
       "    }\n",
       "\n",
       "    .dataframe tbody tr th {\n",
       "        vertical-align: top;\n",
       "    }\n",
       "\n",
       "    .dataframe thead th {\n",
       "        text-align: right;\n",
       "    }\n",
       "</style>\n",
       "<table border=\"1\" class=\"dataframe\">\n",
       "  <thead>\n",
       "    <tr style=\"text-align: right;\">\n",
       "      <th></th>\n",
       "      <th>User-ID</th>\n",
       "      <th>Book-Rating</th>\n",
       "      <th>user_id</th>\n",
       "      <th>user_id_mapped</th>\n",
       "      <th>isbn_id_mapped</th>\n",
       "    </tr>\n",
       "    <tr>\n",
       "      <th>isbn_id</th>\n",
       "      <th></th>\n",
       "      <th></th>\n",
       "      <th></th>\n",
       "      <th></th>\n",
       "      <th></th>\n",
       "    </tr>\n",
       "  </thead>\n",
       "  <tbody>\n",
       "    <tr>\n",
       "      <th>9971400162</th>\n",
       "      <td>114865.0</td>\n",
       "      <td>10.0</td>\n",
       "      <td>114865.0</td>\n",
       "      <td>19984.0</td>\n",
       "      <td>57432.0</td>\n",
       "    </tr>\n",
       "    <tr>\n",
       "      <th>0001821326</th>\n",
       "      <td>201017.0</td>\n",
       "      <td>10.0</td>\n",
       "      <td>201017.0</td>\n",
       "      <td>34204.0</td>\n",
       "      <td>80786.0</td>\n",
       "    </tr>\n",
       "    <tr>\n",
       "      <th>0001374869</th>\n",
       "      <td>10067.0</td>\n",
       "      <td>10.0</td>\n",
       "      <td>10067.0</td>\n",
       "      <td>1999.0</td>\n",
       "      <td>6861.0</td>\n",
       "    </tr>\n",
       "    <tr>\n",
       "      <th>B0001I1KOG</th>\n",
       "      <td>148258.0</td>\n",
       "      <td>10.0</td>\n",
       "      <td>148258.0</td>\n",
       "      <td>25555.0</td>\n",
       "      <td>66369.0</td>\n",
       "    </tr>\n",
       "    <tr>\n",
       "      <th>0001360469</th>\n",
       "      <td>10067.0</td>\n",
       "      <td>10.0</td>\n",
       "      <td>10067.0</td>\n",
       "      <td>1999.0</td>\n",
       "      <td>6860.0</td>\n",
       "    </tr>\n",
       "    <tr>\n",
       "      <th>...</th>\n",
       "      <td>...</td>\n",
       "      <td>...</td>\n",
       "      <td>...</td>\n",
       "      <td>...</td>\n",
       "      <td>...</td>\n",
       "    </tr>\n",
       "    <tr>\n",
       "      <th>0679803726</th>\n",
       "      <td>93047.0</td>\n",
       "      <td>8.0</td>\n",
       "      <td>93047.0</td>\n",
       "      <td>16189.0</td>\n",
       "      <td>45604.0</td>\n",
       "    </tr>\n",
       "    <tr>\n",
       "      <th>075350426X</th>\n",
       "      <td>203456.0</td>\n",
       "      <td>8.0</td>\n",
       "      <td>203456.0</td>\n",
       "      <td>34585.0</td>\n",
       "      <td>81276.0</td>\n",
       "    </tr>\n",
       "    <tr>\n",
       "      <th>0753504545</th>\n",
       "      <td>236727.0</td>\n",
       "      <td>8.0</td>\n",
       "      <td>236727.0</td>\n",
       "      <td>40280.0</td>\n",
       "      <td>89131.0</td>\n",
       "    </tr>\n",
       "    <tr>\n",
       "      <th>0753505045</th>\n",
       "      <td>183316.0</td>\n",
       "      <td>8.0</td>\n",
       "      <td>183316.0</td>\n",
       "      <td>31357.0</td>\n",
       "      <td>76440.0</td>\n",
       "    </tr>\n",
       "    <tr>\n",
       "      <th>0000913154</th>\n",
       "      <td>171118.0</td>\n",
       "      <td>8.0</td>\n",
       "      <td>171118.0</td>\n",
       "      <td>29332.0</td>\n",
       "      <td>72790.0</td>\n",
       "    </tr>\n",
       "  </tbody>\n",
       "</table>\n",
       "<p>98417 rows × 5 columns</p>\n",
       "</div>"
      ],
      "text/plain": [
       "             User-ID  Book-Rating   user_id  user_id_mapped  isbn_id_mapped\n",
       "isbn_id                                                                    \n",
       "9971400162  114865.0         10.0  114865.0         19984.0         57432.0\n",
       "0001821326  201017.0         10.0  201017.0         34204.0         80786.0\n",
       "0001374869   10067.0         10.0   10067.0          1999.0          6861.0\n",
       "B0001I1KOG  148258.0         10.0  148258.0         25555.0         66369.0\n",
       "0001360469   10067.0         10.0   10067.0          1999.0          6860.0\n",
       "...              ...          ...       ...             ...             ...\n",
       "0679803726   93047.0          8.0   93047.0         16189.0         45604.0\n",
       "075350426X  203456.0          8.0  203456.0         34585.0         81276.0\n",
       "0753504545  236727.0          8.0  236727.0         40280.0         89131.0\n",
       "0753505045  183316.0          8.0  183316.0         31357.0         76440.0\n",
       "0000913154  171118.0          8.0  171118.0         29332.0         72790.0\n",
       "\n",
       "[98417 rows x 5 columns]"
      ]
     },
     "execution_count": 8,
     "metadata": {},
     "output_type": "execute_result"
    }
   ],
   "source": [
    "grouped = ratings_filtered_m.groupby([\"isbn_id\"]).mean(numeric_only=True)\n",
    "grouped = grouped.sort_values(['Book-Rating'], ascending=False)\n",
    "grouped"
   ]
  },
  {
   "cell_type": "code",
   "execution_count": 9,
   "metadata": {},
   "outputs": [
    {
     "name": "stdout",
     "output_type": "stream",
     "text": [
      "[np.int64(88337), np.int64(32688), np.int64(53053), np.int64(27240), np.int64(76164), np.int64(62206), np.int64(33394), np.int64(73676), np.int64(59111), np.int64(69146), np.int64(34684), np.int64(72075), np.int64(90664), np.int64(97025), np.int64(82551), np.int64(81700), np.int64(56946), np.int64(39576), np.int64(62011), np.int64(60817)]\n"
     ]
    }
   ],
   "source": [
    "df20_10 = grouped.loc[grouped[\"Book-Rating\"] == 10]\n",
    "\n",
    "df20_10_l = df20_10.isbn_id_mapped.values.astype(int)\n",
    "df20_10_random = list(np.random.choice(df20_10_l, 20, replace = False))\n",
    "print(df20_10_random)"
   ]
  },
  {
   "cell_type": "code",
   "execution_count": 10,
   "metadata": {},
   "outputs": [
    {
     "data": {
      "text/html": [
       "<div>\n",
       "<style scoped>\n",
       "    .dataframe tbody tr th:only-of-type {\n",
       "        vertical-align: middle;\n",
       "    }\n",
       "\n",
       "    .dataframe tbody tr th {\n",
       "        vertical-align: top;\n",
       "    }\n",
       "\n",
       "    .dataframe thead th {\n",
       "        text-align: right;\n",
       "    }\n",
       "</style>\n",
       "<table border=\"1\" class=\"dataframe\">\n",
       "  <thead>\n",
       "    <tr style=\"text-align: right;\">\n",
       "      <th></th>\n",
       "      <th>User-ID</th>\n",
       "      <th>Book-Rating</th>\n",
       "      <th>user_id</th>\n",
       "      <th>user_id_mapped</th>\n",
       "      <th>isbn_id_mapped</th>\n",
       "    </tr>\n",
       "    <tr>\n",
       "      <th>isbn_id</th>\n",
       "      <th></th>\n",
       "      <th></th>\n",
       "      <th></th>\n",
       "      <th></th>\n",
       "      <th></th>\n",
       "    </tr>\n",
       "  </thead>\n",
       "  <tbody>\n",
       "    <tr>\n",
       "      <th>9971400162</th>\n",
       "      <td>114865.0</td>\n",
       "      <td>10.0</td>\n",
       "      <td>114865.0</td>\n",
       "      <td>19984.0</td>\n",
       "      <td>57432.0</td>\n",
       "    </tr>\n",
       "    <tr>\n",
       "      <th>0001821326</th>\n",
       "      <td>201017.0</td>\n",
       "      <td>10.0</td>\n",
       "      <td>201017.0</td>\n",
       "      <td>34204.0</td>\n",
       "      <td>80786.0</td>\n",
       "    </tr>\n",
       "    <tr>\n",
       "      <th>0001374869</th>\n",
       "      <td>10067.0</td>\n",
       "      <td>10.0</td>\n",
       "      <td>10067.0</td>\n",
       "      <td>1999.0</td>\n",
       "      <td>6861.0</td>\n",
       "    </tr>\n",
       "    <tr>\n",
       "      <th>B0001I1KOG</th>\n",
       "      <td>148258.0</td>\n",
       "      <td>10.0</td>\n",
       "      <td>148258.0</td>\n",
       "      <td>25555.0</td>\n",
       "      <td>66369.0</td>\n",
       "    </tr>\n",
       "    <tr>\n",
       "      <th>0001360469</th>\n",
       "      <td>10067.0</td>\n",
       "      <td>10.0</td>\n",
       "      <td>10067.0</td>\n",
       "      <td>1999.0</td>\n",
       "      <td>6860.0</td>\n",
       "    </tr>\n",
       "    <tr>\n",
       "      <th>...</th>\n",
       "      <td>...</td>\n",
       "      <td>...</td>\n",
       "      <td>...</td>\n",
       "      <td>...</td>\n",
       "      <td>...</td>\n",
       "    </tr>\n",
       "    <tr>\n",
       "      <th>0679803726</th>\n",
       "      <td>93047.0</td>\n",
       "      <td>8.0</td>\n",
       "      <td>93047.0</td>\n",
       "      <td>16189.0</td>\n",
       "      <td>45604.0</td>\n",
       "    </tr>\n",
       "    <tr>\n",
       "      <th>075350426X</th>\n",
       "      <td>203456.0</td>\n",
       "      <td>8.0</td>\n",
       "      <td>203456.0</td>\n",
       "      <td>34585.0</td>\n",
       "      <td>81276.0</td>\n",
       "    </tr>\n",
       "    <tr>\n",
       "      <th>0753504545</th>\n",
       "      <td>236727.0</td>\n",
       "      <td>8.0</td>\n",
       "      <td>236727.0</td>\n",
       "      <td>40280.0</td>\n",
       "      <td>89131.0</td>\n",
       "    </tr>\n",
       "    <tr>\n",
       "      <th>0753505045</th>\n",
       "      <td>183316.0</td>\n",
       "      <td>8.0</td>\n",
       "      <td>183316.0</td>\n",
       "      <td>31357.0</td>\n",
       "      <td>76440.0</td>\n",
       "    </tr>\n",
       "    <tr>\n",
       "      <th>0000913154</th>\n",
       "      <td>171118.0</td>\n",
       "      <td>8.0</td>\n",
       "      <td>171118.0</td>\n",
       "      <td>29332.0</td>\n",
       "      <td>72790.0</td>\n",
       "    </tr>\n",
       "  </tbody>\n",
       "</table>\n",
       "<p>98417 rows × 5 columns</p>\n",
       "</div>"
      ],
      "text/plain": [
       "             User-ID  Book-Rating   user_id  user_id_mapped  isbn_id_mapped\n",
       "isbn_id                                                                    \n",
       "9971400162  114865.0         10.0  114865.0         19984.0         57432.0\n",
       "0001821326  201017.0         10.0  201017.0         34204.0         80786.0\n",
       "0001374869   10067.0         10.0   10067.0          1999.0          6861.0\n",
       "B0001I1KOG  148258.0         10.0  148258.0         25555.0         66369.0\n",
       "0001360469   10067.0         10.0   10067.0          1999.0          6860.0\n",
       "...              ...          ...       ...             ...             ...\n",
       "0679803726   93047.0          8.0   93047.0         16189.0         45604.0\n",
       "075350426X  203456.0          8.0  203456.0         34585.0         81276.0\n",
       "0753504545  236727.0          8.0  236727.0         40280.0         89131.0\n",
       "0753505045  183316.0          8.0  183316.0         31357.0         76440.0\n",
       "0000913154  171118.0          8.0  171118.0         29332.0         72790.0\n",
       "\n",
       "[98417 rows x 5 columns]"
      ]
     },
     "execution_count": 10,
     "metadata": {},
     "output_type": "execute_result"
    }
   ],
   "source": [
    "grouped.to_csv(\"ISBNS_grouped.csv\")\n",
    "grouped\n"
   ]
  },
  {
   "cell_type": "code",
   "execution_count": 22,
   "metadata": {},
   "outputs": [
    {
     "ename": "TypeError",
     "evalue": "alg_isbn() missing 1 required positional argument: 'choice_l'",
     "output_type": "error",
     "traceback": [
      "\u001b[1;31m---------------------------------------------------------------------------\u001b[0m",
      "\u001b[1;31mTypeError\u001b[0m                                 Traceback (most recent call last)",
      "Cell \u001b[1;32mIn[22], line 20\u001b[0m\n\u001b[0;32m     17\u001b[0m     recom_list \u001b[38;5;241m=\u001b[39m df20_10_random \n\u001b[0;32m     18\u001b[0m     \u001b[38;5;28;01mreturn\u001b[39;00m recom_list\n\u001b[1;32m---> 20\u001b[0m \u001b[43malg_isbn\u001b[49m\u001b[43m(\u001b[49m\u001b[43m)\u001b[49m\n",
      "\u001b[1;31mTypeError\u001b[0m: alg_isbn() missing 1 required positional argument: 'choice_l'"
     ]
    }
   ],
   "source": [
    "def clear_list(own, updated_list): \n",
    "    for o in own:\n",
    "        for d in updated_list:\n",
    "            if o == d:\n",
    "                updated_list.remove(o)\n",
    "    return updated_list\n",
    "\n",
    "def alg_isbn(choice_l):\n",
    "    \n",
    "    \n",
    "    df20_10 = grouped.loc[grouped[\"Book-Rating\"] >= 9].isbn_id_mapped.values.astype(int)\n",
    "    df20_10_random = list(np.random.choice(df20_10, 50, replace = False))\n",
    "    \n",
    "    df20_10_random = clear_list(choice_l,df20_10_random)\n",
    "    \n",
    "    \n",
    "    recom_list = df20_10_random \n",
    "    return recom_list\n",
    "\n",
    "alg_isbn()"
   ]
  },
  {
   "cell_type": "code",
   "execution_count": 16,
   "metadata": {},
   "outputs": [
    {
     "name": "stdout",
     "output_type": "stream",
     "text": [
      "['1852278943' '1550224751' '0345383486' '0345383370' '034538332X']\n",
      "             User-ID  Book-Rating   user_id  user_id_mapped  isbn_id_mapped\n",
      "isbn_id                                                                    \n",
      "1852278943  197659.0         10.0  197659.0         33675.0         80205.0\n",
      "1550224751   36907.0         10.0   36907.0          6676.0         23461.0\n",
      "0345383486  250962.0         10.0  250962.0         42813.0         93217.0\n",
      "0345383370   31826.0         10.0   31826.0          5770.0         20845.0\n",
      "034538332X  164581.0         10.0  164581.0         28166.0         71173.0\n",
      "['1852278943' '1550224751' '0345383486' '0345383370' '034538332X']\n"
     ]
    }
   ],
   "source": [
    "print(grouped.index.values[:5])\n",
    "print(grouped.iloc[[0,1,2,3,4]])\n",
    "print(grouped.loc[grouped.index.values[:5]].index.values)"
   ]
  },
  {
   "cell_type": "code",
   "execution_count": 17,
   "metadata": {},
   "outputs": [
    {
     "name": "stderr",
     "output_type": "stream",
     "text": [
      "C:\\Users\\morit\\AppData\\Local\\Temp\\ipykernel_25260\\1329451585.py:1: UserWarning: \n",
      "\n",
      "`distplot` is a deprecated function and will be removed in seaborn v0.14.0.\n",
      "\n",
      "Please adapt your code to use either `displot` (a figure-level function with\n",
      "similar flexibility) or `histplot` (an axes-level function for histograms).\n",
      "\n",
      "For a guide to updating your code to use the new functions, please see\n",
      "https://gist.github.com/mwaskom/de44147ed2974457ad6372750bbe5751\n",
      "\n",
      "  sns.distplot(grouped[\"Book-Rating\"])\n"
     ]
    },
    {
     "data": {
      "text/plain": [
       "<Axes: xlabel='Book-Rating', ylabel='Density'>"
      ]
     },
     "execution_count": 17,
     "metadata": {},
     "output_type": "execute_result"
    },
    {
     "data": {
      "image/png": "[encoded data removed]",
      "text/plain": [
       "<Figure size 640x480 with 1 Axes>"
      ]
     },
     "metadata": {},
     "output_type": "display_data"
    }
   ],
   "source": [
    "sns.distplot(grouped[\"Book-Rating\"])"
   ]
  },
  {
   "cell_type": "code",
   "execution_count": 11,
   "metadata": {},
   "outputs": [],
   "source": [
    "# edge_index_user_to_isbn\n",
    "edge_index_user_to_isbn = ratings_filtered_m[[\"user_id_mapped\", \"isbn_id_mapped\"]]\n",
    "edge_index_user_to_isbn_user = torch.from_numpy(edge_index_user_to_isbn.user_id_mapped.values)\n",
    "edge_index_user_to_isbn_isbn =torch.from_numpy( edge_index_user_to_isbn.isbn_id_mapped.values)\n",
    "edge_index_user_to_isbn_user\n",
    "edge_index_user_to_isbn_isbn\n",
    "\n",
    "edge_index_user_to_isbn = torch.stack([edge_index_user_to_isbn_user, edge_index_user_to_isbn_isbn], dim=0)"
   ]
  },
  {
   "cell_type": "code",
   "execution_count": 19,
   "metadata": {},
   "outputs": [
    {
     "data": {
      "text/plain": [
       "tensor([[    0,     0,     0,  ..., 47071, 47072, 47073],\n",
       "        [    0,     1,     2,  ..., 98416, 12023, 79963]])"
      ]
     },
     "execution_count": 19,
     "metadata": {},
     "output_type": "execute_result"
    }
   ],
   "source": [
    "edge_index_user_to_isbn"
   ]
  },
  {
   "cell_type": "code",
   "execution_count": 24,
   "metadata": {},
   "outputs": [],
   "source": []
  },
  {
   "cell_type": "code",
   "execution_count": 12,
   "metadata": {},
   "outputs": [
    {
     "name": "stdout",
     "output_type": "stream",
     "text": [
      "98417\n",
      "98417\n",
      "<class 'pandas.core.frame.DataFrame'>\n",
      "Index: 98417 entries, 0 to 98416\n",
      "Data columns (total 2 columns):\n",
      " #   Column               Non-Null Count  Dtype \n",
      "---  ------               --------------  ----- \n",
      " 0   Year-Of-Publication  98417 non-null  object\n",
      " 1   Publisher            98415 non-null  object\n",
      "dtypes: object(2)\n",
      "memory usage: 2.3+ MB\n",
      "None\n",
      "--- Year-Of-Publication 166\n",
      "--- Publisher 8750\n"
     ]
    },
    {
     "name": "stderr",
     "output_type": "stream",
     "text": [
      "C:\\Users\\morit\\AppData\\Local\\Temp\\ipykernel_43740\\2122506642.py:22: FutureWarning: Downcasting behavior in `replace` is deprecated and will be removed in a future version. To retain the old behavior, explicitly call `result.infer_objects(copy=False)`. To opt-in to the future behavior, set `pd.set_option('future.no_silent_downcasting', True)`\n",
      "  book_x.replace({True:1, False:0}, inplace=True)\n"
     ]
    },
    {
     "data": {
      "text/html": [
       "<div>\n",
       "<style scoped>\n",
       "    .dataframe tbody tr th:only-of-type {\n",
       "        vertical-align: middle;\n",
       "    }\n",
       "\n",
       "    .dataframe tbody tr th {\n",
       "        vertical-align: top;\n",
       "    }\n",
       "\n",
       "    .dataframe thead th {\n",
       "        text-align: right;\n",
       "    }\n",
       "</style>\n",
       "<table border=\"1\" class=\"dataframe\">\n",
       "  <thead>\n",
       "    <tr style=\"text-align: right;\">\n",
       "      <th></th>\n",
       "      <th>Year-Of-Publication</th>\n",
       "      <th>publisher_ Editions P. Terrail</th>\n",
       "      <th>publisher_'K' Pub</th>\n",
       "      <th>publisher_10-18</th>\n",
       "      <th>publisher_10/18</th>\n",
       "      <th>publisher_10/18 UGE</th>\n",
       "      <th>publisher_1001 nuits</th>\n",
       "      <th>publisher_101 Productions; [distributed by Scribner, New York]</th>\n",
       "      <th>publisher_101 Productions; distributed by Scribner, New York</th>\n",
       "      <th>publisher_1stBooks Library</th>\n",
       "      <th>...</th>\n",
       "      <th>publisher_scholastic</th>\n",
       "      <th>publisher_shelterpetsink</th>\n",
       "      <th>publisher_t-2</th>\n",
       "      <th>publisher_toExcel</th>\n",
       "      <th>publisher_trade distribution by Simon and Schuster</th>\n",
       "      <th>publisher_Ã?ditions Michalon</th>\n",
       "      <th>publisher_Ã?ditions de Minuit</th>\n",
       "      <th>publisher_Ã?ditions de minuit</th>\n",
       "      <th>publisher_Ã?ditions du Seuil</th>\n",
       "      <th>publisher_Ã?lbaum</th>\n",
       "    </tr>\n",
       "    <tr>\n",
       "      <th>isbn_id_mapped</th>\n",
       "      <th></th>\n",
       "      <th></th>\n",
       "      <th></th>\n",
       "      <th></th>\n",
       "      <th></th>\n",
       "      <th></th>\n",
       "      <th></th>\n",
       "      <th></th>\n",
       "      <th></th>\n",
       "      <th></th>\n",
       "      <th></th>\n",
       "      <th></th>\n",
       "      <th></th>\n",
       "      <th></th>\n",
       "      <th></th>\n",
       "      <th></th>\n",
       "      <th></th>\n",
       "      <th></th>\n",
       "      <th></th>\n",
       "      <th></th>\n",
       "      <th></th>\n",
       "    </tr>\n",
       "  </thead>\n",
       "  <tbody>\n",
       "    <tr>\n",
       "      <th>0</th>\n",
       "      <td>2003</td>\n",
       "      <td>0</td>\n",
       "      <td>0</td>\n",
       "      <td>0</td>\n",
       "      <td>0</td>\n",
       "      <td>0</td>\n",
       "      <td>0</td>\n",
       "      <td>0</td>\n",
       "      <td>0</td>\n",
       "      <td>0</td>\n",
       "      <td>...</td>\n",
       "      <td>0</td>\n",
       "      <td>0</td>\n",
       "      <td>0</td>\n",
       "      <td>0</td>\n",
       "      <td>0</td>\n",
       "      <td>0</td>\n",
       "      <td>0</td>\n",
       "      <td>0</td>\n",
       "      <td>0</td>\n",
       "      <td>0</td>\n",
       "    </tr>\n",
       "    <tr>\n",
       "      <th>1</th>\n",
       "      <td>1995</td>\n",
       "      <td>0</td>\n",
       "      <td>0</td>\n",
       "      <td>0</td>\n",
       "      <td>0</td>\n",
       "      <td>0</td>\n",
       "      <td>0</td>\n",
       "      <td>0</td>\n",
       "      <td>0</td>\n",
       "      <td>0</td>\n",
       "      <td>...</td>\n",
       "      <td>0</td>\n",
       "      <td>0</td>\n",
       "      <td>0</td>\n",
       "      <td>0</td>\n",
       "      <td>0</td>\n",
       "      <td>0</td>\n",
       "      <td>0</td>\n",
       "      <td>0</td>\n",
       "      <td>0</td>\n",
       "      <td>0</td>\n",
       "    </tr>\n",
       "  </tbody>\n",
       "</table>\n",
       "<p>2 rows × 8751 columns</p>\n",
       "</div>"
      ],
      "text/plain": [
       "                Year-Of-Publication  publisher_ Editions P. Terrail  \\\n",
       "isbn_id_mapped                                                        \n",
       "0                              2003                               0   \n",
       "1                              1995                               0   \n",
       "\n",
       "                publisher_'K' Pub  publisher_10-18  publisher_10/18  \\\n",
       "isbn_id_mapped                                                        \n",
       "0                               0                0                0   \n",
       "1                               0                0                0   \n",
       "\n",
       "                publisher_10/18 UGE  publisher_1001 nuits  \\\n",
       "isbn_id_mapped                                              \n",
       "0                                 0                     0   \n",
       "1                                 0                     0   \n",
       "\n",
       "                publisher_101 Productions; [distributed by Scribner, New York]  \\\n",
       "isbn_id_mapped                                                                   \n",
       "0                                                               0                \n",
       "1                                                               0                \n",
       "\n",
       "                publisher_101 Productions; distributed by Scribner, New York  \\\n",
       "isbn_id_mapped                                                                 \n",
       "0                                                               0              \n",
       "1                                                               0              \n",
       "\n",
       "                publisher_1stBooks Library  ...  publisher_scholastic  \\\n",
       "isbn_id_mapped                              ...                         \n",
       "0                                        0  ...                     0   \n",
       "1                                        0  ...                     0   \n",
       "\n",
       "                publisher_shelterpetsink  publisher_t-2  publisher_toExcel  \\\n",
       "isbn_id_mapped                                                               \n",
       "0                                      0              0                  0   \n",
       "1                                      0              0                  0   \n",
       "\n",
       "                publisher_trade distribution by Simon and Schuster  \\\n",
       "isbn_id_mapped                                                       \n",
       "0                                                               0    \n",
       "1                                                               0    \n",
       "\n",
       "                publisher_Ã?ditions Michalon  publisher_Ã?ditions de Minuit  \\\n",
       "isbn_id_mapped                                                                \n",
       "0                                          0                              0   \n",
       "1                                          0                              0   \n",
       "\n",
       "                publisher_Ã?ditions de minuit  publisher_Ã?ditions du Seuil  \\\n",
       "isbn_id_mapped                                                                \n",
       "0                                           0                             0   \n",
       "1                                           0                             0   \n",
       "\n",
       "                publisher_Ã?lbaum  \n",
       "isbn_id_mapped                     \n",
       "0                               0  \n",
       "1                               0  \n",
       "\n",
       "[2 rows x 8751 columns]"
      ]
     },
     "metadata": {},
     "output_type": "display_data"
    },
    {
     "name": "stdout",
     "output_type": "stream",
     "text": [
      "After Transformation\n",
      "<class 'pandas.core.frame.DataFrame'>\n",
      "Index: 98417 entries, 0 to 98416\n",
      "Columns: 8751 entries, Year-Of-Publication to publisher_Ã?lbaum\n",
      "dtypes: int64(8751)\n",
      "memory usage: 6.4 GB\n",
      "None\n"
     ]
    }
   ],
   "source": [
    "book_x = books[[\"ISBN\", \"Year-Of-Publication\", \"Publisher\"]]\n",
    "book_x = book_x[(book_x[\"ISBN\"].isin(list(ratings_filtered_m.isbn_id.unique())) )]\n",
    "#ratings_filtered_m.isbn_id.unique()\n",
    "\n",
    "print(len(book_x[\"ISBN\"].values))\n",
    "print(len(ratings_filtered_m.isbn_id.unique()))\n",
    "\n",
    "#df_mapping_item, left_on = \"ISBN\", right_on=\"isbn_id\", how = \"left\"\n",
    "book_x = book_x.merge(df_mapping_item,left_on =  \"ISBN\",right_on = \"isbn_id\", how= \"left\")\n",
    "book_x = book_x.sort_values(by=['isbn_id_mapped'])\n",
    "\n",
    "book_x = book_x.set_index('isbn_id_mapped')\n",
    "book_x = book_x[[\"Year-Of-Publication\", \"Publisher\"]]\n",
    "\n",
    "print(book_x.info())\n",
    "\n",
    "for c in [ \"Year-Of-Publication\", \"Publisher\"]:\n",
    "    \n",
    "    print(f'--- {c} {book_x[c].nunique()}')\n",
    "    \n",
    "book_x = pd.get_dummies(book_x, columns=[\"Publisher\"], prefix=[\"publisher\"])\n",
    "book_x.replace({True:1, False:0}, inplace=True)\n",
    "book_x[\"Year-Of-Publication\"]= book_x[\"Year-Of-Publication\"].astype(int)\n",
    "\n",
    "\n",
    "display(book_x.head(2))\n",
    "\n",
    "\n",
    "print(\"After Transformation\")\n",
    "print(book_x.info())\n"
   ]
  },
  {
   "cell_type": "code",
   "execution_count": null,
   "metadata": {},
   "outputs": [],
   "source": [
    "b"
   ]
  },
  {
   "cell_type": "code",
   "execution_count": 33,
   "metadata": {},
   "outputs": [
    {
     "ename": "KeyboardInterrupt",
     "evalue": "",
     "output_type": "error",
     "traceback": [
      "\u001b[1;31m---------------------------------------------------------------------------\u001b[0m",
      "\u001b[1;31mKeyboardInterrupt\u001b[0m                         Traceback (most recent call last)",
      "Cell \u001b[1;32mIn[33], line 1\u001b[0m\n\u001b[1;32m----> 1\u001b[0m book_x\u001b[38;5;241m.\u001b[39mvalues\n",
      "File \u001b[1;32mc:\\Users\\morit\\Documents\\Python Scripts\\me2\\lib\\site-packages\\IPython\\core\\displayhook.py:268\u001b[0m, in \u001b[0;36mDisplayHook.__call__\u001b[1;34m(self, result)\u001b[0m\n\u001b[0;32m    266\u001b[0m \u001b[38;5;28mself\u001b[39m\u001b[38;5;241m.\u001b[39mstart_displayhook()\n\u001b[0;32m    267\u001b[0m \u001b[38;5;28mself\u001b[39m\u001b[38;5;241m.\u001b[39mwrite_output_prompt()\n\u001b[1;32m--> 268\u001b[0m format_dict, md_dict \u001b[38;5;241m=\u001b[39m \u001b[38;5;28;43mself\u001b[39;49m\u001b[38;5;241;43m.\u001b[39;49m\u001b[43mcompute_format_data\u001b[49m\u001b[43m(\u001b[49m\u001b[43mresult\u001b[49m\u001b[43m)\u001b[49m\n\u001b[0;32m    269\u001b[0m \u001b[38;5;28mself\u001b[39m\u001b[38;5;241m.\u001b[39mupdate_user_ns(result)\n\u001b[0;32m    270\u001b[0m \u001b[38;5;28mself\u001b[39m\u001b[38;5;241m.\u001b[39mfill_exec_result(result)\n",
      "File \u001b[1;32mc:\\Users\\morit\\Documents\\Python Scripts\\me2\\lib\\site-packages\\IPython\\core\\displayhook.py:157\u001b[0m, in \u001b[0;36mDisplayHook.compute_format_data\u001b[1;34m(self, result)\u001b[0m\n\u001b[0;32m    127\u001b[0m \u001b[38;5;28;01mdef\u001b[39;00m\u001b[38;5;250m \u001b[39m\u001b[38;5;21mcompute_format_data\u001b[39m(\u001b[38;5;28mself\u001b[39m, result):\n\u001b[0;32m    128\u001b[0m \u001b[38;5;250m    \u001b[39m\u001b[38;5;124;03m\"\"\"Compute format data of the object to be displayed.\u001b[39;00m\n\u001b[0;32m    129\u001b[0m \n\u001b[0;32m    130\u001b[0m \u001b[38;5;124;03m    The format data is a generalization of the :func:`repr` of an object.\u001b[39;00m\n\u001b[1;32m   (...)\u001b[0m\n\u001b[0;32m    155\u001b[0m \n\u001b[0;32m    156\u001b[0m \u001b[38;5;124;03m    \"\"\"\u001b[39;00m\n\u001b[1;32m--> 157\u001b[0m     \u001b[38;5;28;01mreturn\u001b[39;00m \u001b[38;5;28;43mself\u001b[39;49m\u001b[38;5;241;43m.\u001b[39;49m\u001b[43mshell\u001b[49m\u001b[38;5;241;43m.\u001b[39;49m\u001b[43mdisplay_formatter\u001b[49m\u001b[38;5;241;43m.\u001b[39;49m\u001b[43mformat\u001b[49m\u001b[43m(\u001b[49m\u001b[43mresult\u001b[49m\u001b[43m)\u001b[49m\n",
      "File \u001b[1;32mc:\\Users\\morit\\Documents\\Python Scripts\\me2\\lib\\site-packages\\IPython\\core\\formatters.py:145\u001b[0m, in \u001b[0;36mDisplayFormatter.format\u001b[1;34m(self, obj, include, exclude)\u001b[0m\n\u001b[0;32m    142\u001b[0m format_dict \u001b[38;5;241m=\u001b[39m {}\n\u001b[0;32m    143\u001b[0m md_dict \u001b[38;5;241m=\u001b[39m {}\n\u001b[1;32m--> 145\u001b[0m \u001b[38;5;28;01mif\u001b[39;00m \u001b[38;5;28;43mself\u001b[39;49m\u001b[38;5;241;43m.\u001b[39;49m\u001b[43mipython_display_formatter\u001b[49m\u001b[43m(\u001b[49m\u001b[43mobj\u001b[49m\u001b[43m)\u001b[49m:\n\u001b[0;32m    146\u001b[0m     \u001b[38;5;66;03m# object handled itself, don't proceed\u001b[39;00m\n\u001b[0;32m    147\u001b[0m     \u001b[38;5;28;01mreturn\u001b[39;00m {}, {}\n\u001b[0;32m    149\u001b[0m format_dict, md_dict \u001b[38;5;241m=\u001b[39m \u001b[38;5;28mself\u001b[39m\u001b[38;5;241m.\u001b[39mmimebundle_formatter(obj, include\u001b[38;5;241m=\u001b[39minclude, exclude\u001b[38;5;241m=\u001b[39mexclude)\n",
      "File \u001b[1;32mc:\\Users\\morit\\Documents\\Python Scripts\\me2\\lib\\site-packages\\decorator.py:232\u001b[0m, in \u001b[0;36mdecorate.<locals>.fun\u001b[1;34m(*args, **kw)\u001b[0m\n\u001b[0;32m    230\u001b[0m \u001b[38;5;28;01mif\u001b[39;00m \u001b[38;5;129;01mnot\u001b[39;00m kwsyntax:\n\u001b[0;32m    231\u001b[0m     args, kw \u001b[38;5;241m=\u001b[39m fix(args, kw, sig)\n\u001b[1;32m--> 232\u001b[0m \u001b[38;5;28;01mreturn\u001b[39;00m caller(func, \u001b[38;5;241m*\u001b[39m(extras \u001b[38;5;241m+\u001b[39m args), \u001b[38;5;241m*\u001b[39m\u001b[38;5;241m*\u001b[39mkw)\n",
      "File \u001b[1;32mc:\\Users\\morit\\Documents\\Python Scripts\\me2\\lib\\site-packages\\IPython\\core\\formatters.py:223\u001b[0m, in \u001b[0;36mcatch_format_error\u001b[1;34m(method, self, *args, **kwargs)\u001b[0m\n\u001b[0;32m    221\u001b[0m \u001b[38;5;250m\u001b[39m\u001b[38;5;124;03m\"\"\"show traceback on failed format call\"\"\"\u001b[39;00m\n\u001b[0;32m    222\u001b[0m \u001b[38;5;28;01mtry\u001b[39;00m:\n\u001b[1;32m--> 223\u001b[0m     r \u001b[38;5;241m=\u001b[39m method(\u001b[38;5;28mself\u001b[39m, \u001b[38;5;241m*\u001b[39margs, \u001b[38;5;241m*\u001b[39m\u001b[38;5;241m*\u001b[39mkwargs)\n\u001b[0;32m    224\u001b[0m \u001b[38;5;28;01mexcept\u001b[39;00m \u001b[38;5;167;01mNotImplementedError\u001b[39;00m:\n\u001b[0;32m    225\u001b[0m     \u001b[38;5;66;03m# don't warn on NotImplementedErrors\u001b[39;00m\n\u001b[0;32m    226\u001b[0m     \u001b[38;5;28;01mreturn\u001b[39;00m \u001b[38;5;28mself\u001b[39m\u001b[38;5;241m.\u001b[39m_check_return(\u001b[38;5;28;01mNone\u001b[39;00m, args[\u001b[38;5;241m0\u001b[39m])\n",
      "File \u001b[1;32mc:\\Users\\morit\\Documents\\Python Scripts\\me2\\lib\\site-packages\\IPython\\core\\formatters.py:910\u001b[0m, in \u001b[0;36mIPythonDisplayFormatter.__call__\u001b[1;34m(self, obj)\u001b[0m\n\u001b[0;32m    907\u001b[0m \u001b[38;5;129m@catch_format_error\u001b[39m\n\u001b[0;32m    908\u001b[0m \u001b[38;5;28;01mdef\u001b[39;00m\u001b[38;5;250m \u001b[39m\u001b[38;5;21m__call__\u001b[39m(\u001b[38;5;28mself\u001b[39m, obj):\n\u001b[0;32m    909\u001b[0m \u001b[38;5;250m    \u001b[39m\u001b[38;5;124;03m\"\"\"Compute the format for an object.\"\"\"\u001b[39;00m\n\u001b[1;32m--> 910\u001b[0m     \u001b[38;5;28;01mif\u001b[39;00m \u001b[38;5;28;43mself\u001b[39;49m\u001b[38;5;241;43m.\u001b[39;49m\u001b[43menabled\u001b[49m:\n\u001b[0;32m    911\u001b[0m         \u001b[38;5;66;03m# lookup registered printer\u001b[39;00m\n\u001b[0;32m    912\u001b[0m         \u001b[38;5;28;01mtry\u001b[39;00m:\n\u001b[0;32m    913\u001b[0m             printer \u001b[38;5;241m=\u001b[39m \u001b[38;5;28mself\u001b[39m\u001b[38;5;241m.\u001b[39mlookup(obj)\n",
      "File \u001b[1;32mc:\\Users\\morit\\Documents\\Python Scripts\\me2\\lib\\site-packages\\traitlets\\traitlets.py:676\u001b[0m, in \u001b[0;36mTraitType.__get__\u001b[1;34m(self, obj, cls)\u001b[0m\n\u001b[0;32m    672\u001b[0m \u001b[38;5;129m@t\u001b[39m\u001b[38;5;241m.\u001b[39moverload\n\u001b[0;32m    673\u001b[0m \u001b[38;5;28;01mdef\u001b[39;00m\u001b[38;5;250m \u001b[39m\u001b[38;5;21m__get__\u001b[39m(\u001b[38;5;28mself\u001b[39m, obj: t\u001b[38;5;241m.\u001b[39mAny, \u001b[38;5;28mcls\u001b[39m: \u001b[38;5;28mtype\u001b[39m[t\u001b[38;5;241m.\u001b[39mAny]) \u001b[38;5;241m-\u001b[39m\u001b[38;5;241m>\u001b[39m G:\n\u001b[0;32m    674\u001b[0m     \u001b[38;5;241m.\u001b[39m\u001b[38;5;241m.\u001b[39m\u001b[38;5;241m.\u001b[39m\n\u001b[1;32m--> 676\u001b[0m \u001b[38;5;28;01mdef\u001b[39;00m\u001b[38;5;250m \u001b[39m\u001b[38;5;21m__get__\u001b[39m(\u001b[38;5;28mself\u001b[39m, obj: HasTraits \u001b[38;5;241m|\u001b[39m \u001b[38;5;28;01mNone\u001b[39;00m, \u001b[38;5;28mcls\u001b[39m: \u001b[38;5;28mtype\u001b[39m[t\u001b[38;5;241m.\u001b[39mAny]) \u001b[38;5;241m-\u001b[39m\u001b[38;5;241m>\u001b[39m Self \u001b[38;5;241m|\u001b[39m G:\n\u001b[0;32m    677\u001b[0m \u001b[38;5;250m    \u001b[39m\u001b[38;5;124;03m\"\"\"Get the value of the trait by self.name for the instance.\u001b[39;00m\n\u001b[0;32m    678\u001b[0m \n\u001b[0;32m    679\u001b[0m \u001b[38;5;124;03m    Default values are instantiated when :meth:`HasTraits.__new__`\u001b[39;00m\n\u001b[1;32m   (...)\u001b[0m\n\u001b[0;32m    682\u001b[0m \u001b[38;5;124;03m    is in the :class:`HasTraits` instance.\u001b[39;00m\n\u001b[0;32m    683\u001b[0m \u001b[38;5;124;03m    \"\"\"\u001b[39;00m\n\u001b[0;32m    684\u001b[0m     \u001b[38;5;28;01mif\u001b[39;00m obj \u001b[38;5;129;01mis\u001b[39;00m \u001b[38;5;28;01mNone\u001b[39;00m:\n",
      "\u001b[1;31mKeyboardInterrupt\u001b[0m: "
     ]
    }
   ],
   "source": [
    "book_x.values"
   ]
  },
  {
   "cell_type": "code",
   "execution_count": 13,
   "metadata": {},
   "outputs": [
    {
     "name": "stdout",
     "output_type": "stream",
     "text": [
      "HeteroData(\n",
      "  user={ node_id=[47074] },\n",
      "  isbn={\n",
      "    node_id=[98417],\n",
      "    x=[98417, 8751],\n",
      "  },\n",
      "  (user, review, isbn)={ edge_index=[2, 223807] },\n",
      "  (isbn, rev_review, user)={ edge_index=[2, 223807] }\n",
      ")\n"
     ]
    }
   ],
   "source": [
    "torch_isbn = torch.tensor(book_x.values)\n",
    "torch_isbn.shape\n",
    "\n",
    "\n",
    "data = HeteroData()\n",
    "\n",
    "data[\"user\"].node_id = torch.from_numpy(ratings_filtered_m.user_id_mapped.unique())\n",
    "data[\"isbn\"].node_id =torch.from_numpy(ratings_filtered_m.isbn_id_mapped.unique())\n",
    "data[\"isbn\"].x = torch_isbn\n",
    "data[\"user\", \"review\", \"isbn\"].edge_index  = edge_index_user_to_isbn\n",
    "data = T.ToUndirected()(data)\n",
    "print(data)"
   ]
  },
  {
   "cell_type": "code",
   "execution_count": 14,
   "metadata": {},
   "outputs": [
    {
     "data": {
      "text/plain": [
       "{'_global_store': {},\n",
       " 'user': {'node_id': tensor([    0,     1,     2,  ..., 47071, 47072, 47073])},\n",
       " 'isbn': {'node_id': tensor([    0,     1,     2,  ..., 98414, 98415, 98416]),\n",
       "  'x': tensor([[2003,    0,    0,  ...,    0,    0,    0],\n",
       "          [1995,    0,    0,  ...,    0,    0,    0],\n",
       "          [1997,    0,    0,  ...,    0,    0,    0],\n",
       "          ...,\n",
       "          [1994,    0,    0,  ...,    0,    0,    0],\n",
       "          [1995,    0,    0,  ...,    0,    0,    0],\n",
       "          [2000,    0,    0,  ...,    0,    0,    0]])},\n",
       " ('user',\n",
       "  'review',\n",
       "  'isbn'): {'edge_index': tensor([[    0,     0,     0,  ..., 47071, 47072, 47073],\n",
       "          [    0,     1,     2,  ..., 98416, 12023, 79963]])},\n",
       " ('isbn',\n",
       "  'rev_review',\n",
       "  'user'): {'edge_index': tensor([[    0,     1,     2,  ..., 98416, 12023, 79963],\n",
       "          [    0,     0,     0,  ..., 47071, 47072, 47073]])}}"
      ]
     },
     "execution_count": 14,
     "metadata": {},
     "output_type": "execute_result"
    }
   ],
   "source": [
    "a = data.to_dict()\n",
    "a"
   ]
  },
  {
   "cell_type": "code",
   "execution_count": 31,
   "metadata": {},
   "outputs": [
    {
     "name": "stdout",
     "output_type": "stream",
     "text": [
      "dictionary saved successfully to file\n"
     ]
    }
   ],
   "source": [
    "import pickle\n",
    "with open('data_graph.pkl', 'wb') as fp:\n",
    "    pickle.dump(a, fp)\n",
    "    print('dictionary saved successfully to file')"
   ]
  },
  {
   "cell_type": "code",
   "execution_count": 15,
   "metadata": {},
   "outputs": [
    {
     "name": "stdout",
     "output_type": "stream",
     "text": [
      "Person dictionary\n",
      "{'user': {'node_id': tensor([    0,     1,     2,  ..., 47071, 47072, 47073])}, 'isbn': {'node_id': tensor([    0,     1,     2,  ..., 98414, 98415, 98416]), 'x': tensor([[2003,    0,    0,  ...,    0,    0,    0],\n",
      "        [1995,    0,    0,  ...,    0,    0,    0],\n",
      "        [1997,    0,    0,  ...,    0,    0,    0],\n",
      "        ...,\n",
      "        [1994,    0,    0,  ...,    0,    0,    0],\n",
      "        [1995,    0,    0,  ...,    0,    0,    0],\n",
      "        [2000,    0,    0,  ...,    0,    0,    0]], dtype=torch.int32)}, ('user', 'review', 'isbn'): {'edge_index': tensor([[    0,     0,     0,  ..., 47071, 47072, 47073],\n",
      "        [    0,     1,     2,  ..., 98416, 12023, 79963]])}, ('isbn', 'rev_review', 'user'): {'edge_index': tensor([[    0,     1,     2,  ..., 98416, 12023, 79963],\n",
      "        [    0,     0,     0,  ..., 47071, 47072, 47073]])}}\n"
     ]
    }
   ],
   "source": [
    "with open('data_graph.pkl', 'rb') as fp:\n",
    "    person = pickle.load(fp)\n",
    "    print('Person dictionary')\n",
    "    print(person)\n",
    "b = HeteroData(person)"
   ]
  },
  {
   "cell_type": "code",
   "execution_count": 30,
   "metadata": {},
   "outputs": [
    {
     "data": {
      "text/plain": [
       "HeteroData(\n",
       "  \u001b[1muser\u001b[0m={ node_id=[47074] },\n",
       "  \u001b[1misbn\u001b[0m={\n",
       "    node_id=[98417],\n",
       "    x=[98417, 8751]\n",
       "  },\n",
       "  \u001b[1m(user, review, isbn)\u001b[0m={ edge_index=[2, 223807] },\n",
       "  \u001b[1m(isbn, rev_review, user)\u001b[0m={ edge_index=[2, 223807] }\n",
       ")"
      ]
     },
     "execution_count": 30,
     "metadata": {},
     "output_type": "execute_result"
    }
   ],
   "source": [
    "b = HeteroData(person)\n"
   ]
  },
  {
   "cell_type": "markdown",
   "metadata": {},
   "source": [
    "### Data Transformation -> Random Splitter + LinkLoader"
   ]
  },
  {
   "cell_type": "code",
   "execution_count": 16,
   "metadata": {},
   "outputs": [],
   "source": [
    "transform = T.RandomLinkSplit(\n",
    "    num_val=0.1,\n",
    "    num_test=0.1,\n",
    "    disjoint_train_ratio=0.3,\n",
    "    neg_sampling_ratio=2.0,\n",
    "    add_negative_train_samples=False,\n",
    "    edge_types=(\"user\", \"review\", \"isbn\"),\n",
    "    rev_edge_types=(\"isbn\", \"rev_review\", \"user\"), \n",
    ")\n",
    "train_data, val_data, test_data = transform(data)"
   ]
  },
  {
   "cell_type": "code",
   "execution_count": 17,
   "metadata": {},
   "outputs": [
    {
     "data": {
      "text/plain": [
       "tensor([0., 1.])"
      ]
     },
     "execution_count": 17,
     "metadata": {},
     "output_type": "execute_result"
    }
   ],
   "source": [
    "val_data[\"user\", \"review\", \"isbn\"].edge_label.unique()"
   ]
  },
  {
   "cell_type": "code",
   "execution_count": 18,
   "metadata": {},
   "outputs": [
    {
     "data": {
      "text/plain": [
       "tensor([[15497, 37391, 22908,  ..., 22900, 32329, 16468],\n",
       "        [44465,   583, 35008,  ..., 62011, 78186, 46152]])"
      ]
     },
     "execution_count": 18,
     "metadata": {},
     "output_type": "execute_result"
    }
   ],
   "source": [
    "train_data[\"user\", \"review\", \"isbn\"].edge_index"
   ]
  },
  {
   "cell_type": "code",
   "execution_count": 19,
   "metadata": {},
   "outputs": [],
   "source": [
    "from torch_geometric.loader import LinkNeighborLoader\n",
    "\n",
    "# Define seed edges:\n",
    "edge_label_index = train_data[\"user\", \"review\", \"isbn\"].edge_label_index\n",
    "edge_label = train_data[\"user\", \"review\", \"isbn\"].edge_label\n"
   ]
  },
  {
   "cell_type": "code",
   "execution_count": 20,
   "metadata": {},
   "outputs": [
    {
     "data": {
      "text/plain": [
       "tensor([[ 8078,  2852,  4491,  ..., 43260, 39891,  2481],\n",
       "        [26731, 12416,   856,  ...,  4759,  4225, 11329]])"
      ]
     },
     "execution_count": 20,
     "metadata": {},
     "output_type": "execute_result"
    }
   ],
   "source": [
    "edge_label_index"
   ]
  },
  {
   "cell_type": "code",
   "execution_count": 21,
   "metadata": {},
   "outputs": [
    {
     "data": {
      "text/plain": [
       "tensor([1., 1., 1.,  ..., 1., 1., 1.])"
      ]
     },
     "execution_count": 21,
     "metadata": {},
     "output_type": "execute_result"
    }
   ],
   "source": [
    "edge_label"
   ]
  },
  {
   "cell_type": "code",
   "execution_count": 22,
   "metadata": {},
   "outputs": [],
   "source": [
    "train_loader = LinkNeighborLoader(\n",
    "    data=train_data,\n",
    "    num_neighbors=[5, 5],\n",
    "    neg_sampling_ratio=2.0,\n",
    "    edge_label_index=((\"user\", \"review\", \"isbn\"), edge_label_index),\n",
    "    edge_label=edge_label,\n",
    "    batch_size=128,\n",
    "    shuffle=True,\n",
    ")\n",
    "# Ich denke hier ist der Fehler\n",
    "#train_data, val_data, test_data = transform(data)\n",
    "val_loader = LinkNeighborLoader(\n",
    "    \n",
    "     data=val_data,\n",
    "    num_neighbors=[5, 5],\n",
    "    #neg_sampling_ratio=2.0,\n",
    "    edge_label_index=((\"user\", \"review\", \"isbn\"), val_data[\"user\", \"review\", \"isbn\"].edge_label_index),\n",
    "    edge_label=val_data[\"user\", \"review\", \"isbn\"].edge_label,\n",
    "    batch_size=128,\n",
    "    shuffle=True,\n",
    "    )\n",
    "\n",
    "test_loader = LinkNeighborLoader(\n",
    "    \n",
    "     data=test_data,\n",
    "    num_neighbors=[5, 5],\n",
    "    #neg_sampling_ratio=2.0,\n",
    "    edge_label_index=((\"user\", \"review\", \"isbn\"), test_data[\"user\", \"review\", \"isbn\"].edge_label_index),\n",
    "    edge_label=test_data[\"user\", \"review\", \"isbn\"].edge_label,\n",
    "    batch_size=128,\n",
    "    shuffle=True,\n",
    "    )\n",
    "#test_loader = LinkNeighborLoader(test_dataset, batch_size=32)"
   ]
  },
  {
   "cell_type": "code",
   "execution_count": 67,
   "metadata": {},
   "outputs": [
    {
     "data": {
      "text/plain": [
       "HeteroData(\n",
       "  \u001b[1muser\u001b[0m={ node_id=[47074] },\n",
       "  \u001b[1misbn\u001b[0m={\n",
       "    node_id=[98417],\n",
       "    x=[98417, 8751]\n",
       "  },\n",
       "  \u001b[1m(user, review, isbn)\u001b[0m={\n",
       "    edge_index=[2, 125333],\n",
       "    edge_label=[53714],\n",
       "    edge_label_index=[2, 53714]\n",
       "  },\n",
       "  \u001b[1m(isbn, rev_review, user)\u001b[0m={ edge_index=[2, 125333] }\n",
       ")"
      ]
     },
     "execution_count": 67,
     "metadata": {},
     "output_type": "execute_result"
    }
   ],
   "source": [
    "train_data"
   ]
  },
  {
   "cell_type": "code",
   "execution_count": 23,
   "metadata": {},
   "outputs": [
    {
     "data": {
      "text/plain": [
       "HeteroData(\n",
       "  user={\n",
       "    node_id=[2010],\n",
       "    n_id=[2010],\n",
       "    num_sampled_nodes=[3],\n",
       "  },\n",
       "  isbn={\n",
       "    node_id=[2514],\n",
       "    x=[2514, 8751],\n",
       "    n_id=[2514],\n",
       "    num_sampled_nodes=[3],\n",
       "  },\n",
       "  (user, review, isbn)={\n",
       "    edge_index=[2, 2638],\n",
       "    edge_label=[384],\n",
       "    edge_label_index=[2, 384],\n",
       "    e_id=[2638],\n",
       "    num_sampled_edges=[2],\n",
       "    input_id=[128],\n",
       "  },\n",
       "  (isbn, rev_review, user)={\n",
       "    edge_index=[2, 2601],\n",
       "    e_id=[2601],\n",
       "    num_sampled_edges=[2],\n",
       "  }\n",
       ")"
      ]
     },
     "execution_count": 23,
     "metadata": {},
     "output_type": "execute_result"
    }
   ],
   "source": [
    "sample_data = next(iter(train_loader))\n",
    "sample_data"
   ]
  },
  {
   "cell_type": "code",
   "execution_count": 24,
   "metadata": {},
   "outputs": [],
   "source": [
    "from torch_geometric.nn import to_hetero\n",
    "import torch_geometric\n",
    "#d = torch_geometric.utils.to_networkx(sample_data.to_homogeneous())\n",
    "#nx.draw(d)"
   ]
  },
  {
   "cell_type": "markdown",
   "metadata": {},
   "source": [
    "\n",
    "### Model Generation"
   ]
  },
  {
   "cell_type": "code",
   "execution_count": 25,
   "metadata": {},
   "outputs": [
    {
     "name": "stdout",
     "output_type": "stream",
     "text": [
      "Device: 'cpu'\n"
     ]
    }
   ],
   "source": [
    "from torch_geometric.nn import SAGEConv, to_hetero\n",
    "import torch.nn.functional as F\n",
    "import tqdm\n",
    "import torch.nn.functional as F\n",
    "device = torch.device('cuda' if torch.cuda.is_available() else 'cpu')\n",
    "print(f\"Device: '{device}'\")"
   ]
  },
  {
   "cell_type": "code",
   "execution_count": 39,
   "metadata": {},
   "outputs": [
    {
     "data": {
      "text/plain": [
       "<bound method HeteroData.metadata of HeteroData(\n",
       "  user={ node_id=[47074] },\n",
       "  isbn={\n",
       "    node_id=[98417],\n",
       "    x=[98417, 8751],\n",
       "  },\n",
       "  (user, review, isbn)={ edge_index=[2, 223807] },\n",
       "  (isbn, rev_review, user)={ edge_index=[2, 223807] }\n",
       ")>"
      ]
     },
     "execution_count": 39,
     "metadata": {},
     "output_type": "execute_result"
    }
   ],
   "source": [
    "data.metadata"
   ]
  },
  {
   "cell_type": "code",
   "execution_count": 26,
   "metadata": {},
   "outputs": [],
   "source": [
    "class GNN(torch.nn.Module):\n",
    "    # Important Q: Can I input only a small subgraph (GNN) and use this with a saved embedding of the movies (Classifier)?\n",
    "    def __init__(self, hidden_channels):\n",
    "        super().__init__()\n",
    "        self.conv1 = SAGEConv(hidden_channels, hidden_channels)\n",
    "        self.conv2 = SAGEConv(hidden_channels, hidden_channels)\n",
    "    def forward(self, x, edge_index) :\n",
    "        x = F.relu(self.conv1(x, edge_index))\n",
    "        x = self.conv2(x, edge_index)\n",
    "        return x #Embeddings for all the Books and Users\n",
    "    \n",
    "    \n",
    "# Our final classifier applies the dot-product between source and destination\n",
    "# node embeddings to derive edge-level predictions:\n",
    "class Classifier(torch.nn.Module): #Nur das hier ist für die Edge_label_indexe\n",
    "    def forward(self, x_user, x_movie, edge_label_index) :\n",
    "        \n",
    "        edge_feat_user = x_user[edge_label_index[0]]\n",
    "        edge_feat_movie = x_movie[edge_label_index[1]]\n",
    "        \n",
    "        return (edge_feat_user * edge_feat_movie).sum(dim=-1)"
   ]
  },
  {
   "cell_type": "code",
   "execution_count": 27,
   "metadata": {},
   "outputs": [],
   "source": [
    "class Model(torch.nn.Module):\n",
    "    def __init__(self, hidden_channels):\n",
    "        super().__init__()\n",
    "        self.movie_lin = torch.nn.Linear(8751, hidden_channels)\n",
    "        self.user_emb = torch.nn.Embedding(data[\"user\"].num_nodes, hidden_channels)# hier müsste es mehr sein!\n",
    "        self.movie_emb = torch.nn.Embedding(data[\"isbn\"].num_nodes, hidden_channels)\n",
    "        self.gnn = GNN(hidden_channels)\n",
    "        self.gnn = to_hetero(self.gnn, metadata=data.metadata())\n",
    "        self.classifier = Classifier()\n",
    "        \n",
    "    def forward(self, data: HeteroData) :\n",
    "    \n",
    "        x_dict = {\n",
    "          \"user\": self.user_emb(data[\"user\"].node_id),\n",
    "          \"isbn\": self.movie_lin(data[\"isbn\"].x.float()) + self.movie_emb(data[\"isbn\"].node_id),\n",
    "        } \n",
    "        x_dict = self.gnn(x_dict, data.edge_index_dict)\n",
    "        pred = self.classifier(\n",
    "            x_dict[\"user\"],\n",
    "            x_dict[\"isbn\"],\n",
    "            data[\"user\", \"review\", \"isbn\"].edge_label_index,\n",
    "        )\n",
    "        return pred\n",
    "    \n",
    "model = Model(hidden_channels=64)"
   ]
  },
  {
   "cell_type": "markdown",
   "metadata": {},
   "source": [
    "t = data[\"isbn\"].x[0]\n",
    "m = torch.nn.Linear(8751, 64)\n",
    "input = torch.randn(128, 8751)\n",
    "output = m(t.float())\n",
    "print(output.size())\n",
    "\n",
    "input.shape"
   ]
  },
  {
   "cell_type": "markdown",
   "metadata": {},
   "source": [
    "### Training and Validation"
   ]
  },
  {
   "cell_type": "code",
   "execution_count": 28,
   "metadata": {},
   "outputs": [],
   "source": [
    "\n",
    "\n",
    "optimizer = torch.optim.Adam(params=model.parameters(), lr=0.0001)\n",
    "criterion = BCEWithLogitsLoss()\n",
    "\n",
    "def train():\n",
    "    model.train()\n",
    "    total_loss = total_examples = 0\n",
    "\n",
    "    for sampled_data in tqdm.tqdm(train_loader):\n",
    "        sampled_data.to(device)\n",
    "        optimizer.zero_grad()\n",
    "        pred = model(sampled_data)\n",
    "        ground_truth = sampled_data[\"user\", \"review\", \"isbn\"].edge_label\n",
    "        loss = criterion(pred, ground_truth)\n",
    "        \n",
    "        loss.backward()\n",
    "        optimizer.step()\n",
    "        total_loss += float(loss) * pred.numel()\n",
    "        total_examples += pred.numel()\n",
    "    #print(f\"Epoch: {epoch:03d}, Loss: {total_loss / total_examples:.4f}\")\n",
    "    return total_loss / total_examples\n",
    "\n",
    "\n",
    "@torch.no_grad()\n",
    "def test(loader):\n",
    "    model.eval()\n",
    "    y_pred, y_true = [], []\n",
    "    \n",
    "    for s_data in tqdm.tqdm(loader):\n",
    "        \n",
    "        s_data = s_data.to(device)\n",
    "        out = model(s_data)\n",
    "        y_pred.append(out)\n",
    "        ground_truth = s_data[\"user\", \"review\", \"isbn\"].edge_label\n",
    "        y_true.append(ground_truth)\n",
    "    auc = roc_auc_score(torch.cat(y_true), torch.cat(y_pred))\n",
    "    ap = average_precision_score(torch.cat(y_true), torch.cat(y_pred))\n",
    "\n",
    "    return auc, ap"
   ]
  },
  {
   "cell_type": "code",
   "execution_count": 29,
   "metadata": {},
   "outputs": [
    {
     "name": "stderr",
     "output_type": "stream",
     "text": [
      "  0%|          | 0/420 [00:00<?, ?it/s]"
     ]
    },
    {
     "name": "stderr",
     "output_type": "stream",
     "text": [
      "100%|██████████| 420/420 [04:53<00:00,  1.43it/s]\n",
      "100%|██████████| 525/525 [02:30<00:00,  3.50it/s]\n"
     ]
    },
    {
     "name": "stdout",
     "output_type": "stream",
     "text": [
      "Epoch  0 | Loss: 2.1353 | Val AUC: 0.5798 | Val AP: 0.3638\n"
     ]
    },
    {
     "name": "stderr",
     "output_type": "stream",
     "text": [
      "100%|██████████| 420/420 [05:11<00:00,  1.35it/s]\n",
      "100%|██████████| 420/420 [03:29<00:00,  2.01it/s]\n",
      "100%|██████████| 420/420 [03:17<00:00,  2.13it/s]\n",
      "100%|██████████| 420/420 [03:18<00:00,  2.12it/s]\n",
      "100%|██████████| 420/420 [03:17<00:00,  2.12it/s]\n",
      "100%|██████████| 525/525 [01:35<00:00,  5.50it/s]\n"
     ]
    },
    {
     "name": "stdout",
     "output_type": "stream",
     "text": [
      "Epoch  5 | Loss: 0.5514 | Val AUC: 0.7475 | Val AP: 0.5820\n"
     ]
    },
    {
     "name": "stderr",
     "output_type": "stream",
     "text": [
      "100%|██████████| 420/420 [04:05<00:00,  1.71it/s]\n",
      "100%|██████████| 420/420 [03:58<00:00,  1.76it/s]\n",
      "100%|██████████| 420/420 [05:21<00:00,  1.31it/s]\n",
      "100%|██████████| 420/420 [04:03<00:00,  1.73it/s]\n",
      "100%|██████████| 420/420 [03:16<00:00,  2.13it/s]\n",
      "100%|██████████| 525/525 [01:35<00:00,  5.51it/s]\n"
     ]
    },
    {
     "name": "stdout",
     "output_type": "stream",
     "text": [
      "Epoch 10 | Loss: 0.4598 | Val AUC: 0.8204 | Val AP: 0.7004\n"
     ]
    },
    {
     "name": "stderr",
     "output_type": "stream",
     "text": [
      "100%|██████████| 420/420 [03:18<00:00,  2.11it/s]\n",
      "100%|██████████| 420/420 [03:17<00:00,  2.13it/s]\n",
      "100%|██████████| 420/420 [03:17<00:00,  2.13it/s]\n",
      "100%|██████████| 420/420 [03:19<00:00,  2.11it/s]\n",
      "100%|██████████| 420/420 [03:17<00:00,  2.12it/s]\n",
      "100%|██████████| 525/525 [01:36<00:00,  5.45it/s]\n"
     ]
    },
    {
     "name": "stdout",
     "output_type": "stream",
     "text": [
      "Epoch 15 | Loss: 0.4082 | Val AUC: 0.8540 | Val AP: 0.7585\n"
     ]
    },
    {
     "name": "stderr",
     "output_type": "stream",
     "text": [
      "100%|██████████| 420/420 [03:18<00:00,  2.12it/s]\n",
      "100%|██████████| 420/420 [03:35<00:00,  1.95it/s]\n",
      "100%|██████████| 420/420 [03:41<00:00,  1.90it/s]\n",
      "100%|██████████| 420/420 [02:55<00:00,  2.39it/s]\n",
      "100%|██████████| 420/420 [02:31<00:00,  2.77it/s]\n",
      "100%|██████████| 525/525 [01:18<00:00,  6.66it/s]\n"
     ]
    },
    {
     "name": "stdout",
     "output_type": "stream",
     "text": [
      "Epoch 20 | Loss: 0.3743 | Val AUC: 0.8722 | Val AP: 0.7856\n"
     ]
    },
    {
     "name": "stderr",
     "output_type": "stream",
     "text": [
      "100%|██████████| 420/420 [02:31<00:00,  2.78it/s]\n",
      "100%|██████████| 420/420 [02:33<00:00,  2.74it/s]\n",
      "100%|██████████| 420/420 [02:32<00:00,  2.75it/s]\n",
      "100%|██████████| 420/420 [02:34<00:00,  2.72it/s]\n",
      "100%|██████████| 420/420 [02:31<00:00,  2.78it/s]\n",
      "100%|██████████| 525/525 [01:17<00:00,  6.76it/s]\n"
     ]
    },
    {
     "name": "stdout",
     "output_type": "stream",
     "text": [
      "Epoch 25 | Loss: 0.3481 | Val AUC: 0.8749 | Val AP: 0.7904\n"
     ]
    },
    {
     "name": "stderr",
     "output_type": "stream",
     "text": [
      "100%|██████████| 420/420 [02:30<00:00,  2.79it/s]\n",
      "100%|██████████| 420/420 [02:29<00:00,  2.80it/s]\n",
      "100%|██████████| 420/420 [02:32<00:00,  2.76it/s]\n",
      "100%|██████████| 420/420 [02:40<00:00,  2.61it/s]\n"
     ]
    }
   ],
   "source": [
    "for epoch in range(30):#30 epochen\n",
    "    loss = train()\n",
    "    \n",
    "    if epoch % 5 == 0:\n",
    "        val_auc, val_ap = test(val_loader)\n",
    "        print(f'Epoch {epoch:>2} | Loss: {loss:.4f} | Val AUC: {val_auc:.4f} | Val AP: {val_ap:.4f}')"
   ]
  },
  {
   "cell_type": "markdown",
   "metadata": {},
   "source": []
  },
  {
   "cell_type": "code",
   "execution_count": 30,
   "metadata": {},
   "outputs": [
    {
     "name": "stderr",
     "output_type": "stream",
     "text": [
      "100%|██████████| 525/525 [01:37<00:00,  5.39it/s]\n"
     ]
    },
    {
     "name": "stdout",
     "output_type": "stream",
     "text": [
      "Epoch 29 | Loss: 0.3299 | Val AUC: 0.8807 | Val AP: 0.8026\n"
     ]
    }
   ],
   "source": [
    "val_auc, val_ap = test(val_loader)\n",
    "print(f'Epoch {epoch:>2} | Loss: {loss:.4f} | Val AUC: {val_auc:.4f} | Val AP: {val_ap:.4f}')"
   ]
  },
  {
   "cell_type": "markdown",
   "metadata": {},
   "source": []
  },
  {
   "cell_type": "markdown",
   "metadata": {},
   "source": [
    "### Test Model"
   ]
  },
  {
   "cell_type": "code",
   "execution_count": 31,
   "metadata": {},
   "outputs": [
    {
     "name": "stderr",
     "output_type": "stream",
     "text": [
      "100%|██████████| 525/525 [01:40<00:00,  5.24it/s]"
     ]
    },
    {
     "name": "stdout",
     "output_type": "stream",
     "text": [
      " Val AUC: 0.8723 | Val AP: 0.7713\n"
     ]
    },
    {
     "name": "stderr",
     "output_type": "stream",
     "text": [
      "\n"
     ]
    }
   ],
   "source": [
    "t_auc, t_ap = test(test_loader)\n",
    "print(f' Val AUC: {t_auc:.4f} | Val AP: {t_ap:.4f}')"
   ]
  },
  {
   "cell_type": "markdown",
   "metadata": {},
   "source": [
    "Val AUC: 0.8724 | Val AP: 0.7822"
   ]
  },
  {
   "cell_type": "markdown",
   "metadata": {},
   "source": [
    "### Safe Model"
   ]
  },
  {
   "cell_type": "code",
   "execution_count": null,
   "metadata": {},
   "outputs": [],
   "source": []
  },
  {
   "cell_type": "code",
   "execution_count": 36,
   "metadata": {},
   "outputs": [],
   "source": [
    "PATH = \"C:/Users/morit/Documents/Python Scripts/Graph/Book_Crossing/model/model_torch.pt\"\n",
    "torch.save(model.state_dict(), PATH)"
   ]
  },
  {
   "cell_type": "code",
   "execution_count": 37,
   "metadata": {},
   "outputs": [
    {
     "data": {
      "text/plain": [
       "Model(\n",
       "  (movie_lin): Linear(in_features=8751, out_features=64, bias=True)\n",
       "  (user_emb): Embedding(47074, 64)\n",
       "  (movie_emb): Embedding(98417, 64)\n",
       "  (gnn): GraphModule(\n",
       "    (conv1): ModuleDict(\n",
       "      (user__review__isbn): SAGEConv(64, 64, aggr=mean)\n",
       "      (isbn__rev_review__user): SAGEConv(64, 64, aggr=mean)\n",
       "    )\n",
       "    (conv2): ModuleDict(\n",
       "      (user__review__isbn): SAGEConv(64, 64, aggr=mean)\n",
       "      (isbn__rev_review__user): SAGEConv(64, 64, aggr=mean)\n",
       "    )\n",
       "  )\n",
       "  (classifier): Classifier()\n",
       ")"
      ]
     },
     "execution_count": 37,
     "metadata": {},
     "output_type": "execute_result"
    }
   ],
   "source": [
    "model = Model(hidden_channels=64)\n",
    "model.load_state_dict(torch.load(PATH, weights_only=True))\n",
    "model.eval()"
   ]
  },
  {
   "cell_type": "code",
   "execution_count": 33,
   "metadata": {},
   "outputs": [],
   "source": [
    "import pickle\n",
    "filename = 'sage_final_book_model.sav'\n",
    "pickle.dump(model, open(filename, 'wb'))"
   ]
  },
  {
   "cell_type": "code",
   "execution_count": 433,
   "metadata": {},
   "outputs": [],
   "source": [
    "import dill as pickle\n",
    "filename = 'final_book_model.sav'\n",
    "pickle.dump(model, open(filename, 'wb'))"
   ]
  },
  {
   "cell_type": "code",
   "execution_count": 434,
   "metadata": {},
   "outputs": [],
   "source": [
    "gnn_loaded = pickle.load(open(filename, \"rb\"))"
   ]
  },
  {
   "cell_type": "code",
   "execution_count": 435,
   "metadata": {},
   "outputs": [
    {
     "data": {
      "text/plain": [
       "Model(\n",
       "  (movie_lin): Linear(in_features=8751, out_features=64, bias=True)\n",
       "  (user_emb): Embedding(47074, 64)\n",
       "  (movie_emb): Embedding(98417, 64)\n",
       "  (gnn): GraphModule(\n",
       "    (conv1): Module(\n",
       "      (user__review__isbn): SAGEConv(64, 64, aggr=mean)\n",
       "      (isbn__rev_review__user): SAGEConv(64, 64, aggr=mean)\n",
       "    )\n",
       "    (conv2): Module(\n",
       "      (user__review__isbn): SAGEConv(64, 64, aggr=mean)\n",
       "      (isbn__rev_review__user): SAGEConv(64, 64, aggr=mean)\n",
       "    )\n",
       "  )\n",
       "  (classifier): Classifier()\n",
       ")"
      ]
     },
     "execution_count": 435,
     "metadata": {},
     "output_type": "execute_result"
    }
   ],
   "source": [
    "gnn_loaded"
   ]
  },
  {
   "cell_type": "markdown",
   "metadata": {},
   "source": [
    "# Preprocessing"
   ]
  },
  {
   "cell_type": "code",
   "execution_count": 104,
   "metadata": {},
   "outputs": [],
   "source": [
    "import numpy as np\n",
    "from sklearn.model_selection import train_test_split\n",
    "\n",
    "import torch\n",
    "import torch.nn.functional as F\n",
    "from torch import nn, optim, Tensor\n",
    "\n",
    "from torch_geometric.utils import structured_negative_sampling\n",
    "from torch_geometric.nn.conv.gcn_conv import gcn_norm\n",
    "from torch_geometric.nn import LGConv"
   ]
  },
  {
   "cell_type": "code",
   "execution_count": 105,
   "metadata": {},
   "outputs": [
    {
     "name": "stderr",
     "output_type": "stream",
     "text": [
      "C:\\Users\\morit\\AppData\\Local\\Temp\\ipykernel_50592\\862360678.py:3: FutureWarning: The error_bad_lines argument has been deprecated and will be removed in a future version. Use on_bad_lines in the future.\n",
      "\n",
      "\n",
      "  books = pd.read_csv('BX-Books.csv', sep=';', encoding='latin-1', error_bad_lines=False)\n",
      "Skipping line 6452: expected 8 fields, saw 9\n",
      "Skipping line 43667: expected 8 fields, saw 10\n",
      "Skipping line 51751: expected 8 fields, saw 9\n",
      "\n",
      "Skipping line 92038: expected 8 fields, saw 9\n",
      "Skipping line 104319: expected 8 fields, saw 9\n",
      "Skipping line 121768: expected 8 fields, saw 9\n",
      "\n",
      "Skipping line 144058: expected 8 fields, saw 9\n",
      "Skipping line 150789: expected 8 fields, saw 9\n",
      "Skipping line 157128: expected 8 fields, saw 9\n",
      "Skipping line 180189: expected 8 fields, saw 9\n",
      "Skipping line 185738: expected 8 fields, saw 9\n",
      "\n",
      "Skipping line 209388: expected 8 fields, saw 9\n",
      "Skipping line 220626: expected 8 fields, saw 9\n",
      "Skipping line 227933: expected 8 fields, saw 11\n",
      "Skipping line 228957: expected 8 fields, saw 10\n",
      "Skipping line 245933: expected 8 fields, saw 9\n",
      "Skipping line 251296: expected 8 fields, saw 9\n",
      "Skipping line 259941: expected 8 fields, saw 9\n",
      "Skipping line 261529: expected 8 fields, saw 9\n",
      "\n",
      "C:\\Users\\morit\\AppData\\Local\\Temp\\ipykernel_50592\\862360678.py:3: DtypeWarning: Columns (3) have mixed types. Specify dtype option on import or set low_memory=False.\n",
      "  books = pd.read_csv('BX-Books.csv', sep=';', encoding='latin-1', error_bad_lines=False)\n"
     ]
    }
   ],
   "source": [
    "df = pd.read_csv('BX-Book-Ratings.csv', sep=';', encoding='latin-1') \n",
    "users = pd.read_csv('BX-Users.csv', sep=';', encoding='latin-1') \n",
    "books = pd.read_csv('BX-Books.csv', sep=';', encoding='latin-1', error_bad_lines=False) "
   ]
  },
  {
   "cell_type": "code",
   "execution_count": 26,
   "metadata": {},
   "outputs": [],
   "source": [
    "# Preprocessing\n",
    "df = df.loc[df['ISBN'].isin(books['ISBN'].unique()) & df['User-ID'].isin(users['User-ID'].unique())]\n",
    "\n",
    "# Keep the 100k highest ratings\n",
    "df = df[df['Book-Rating'] >= 8].iloc[:100000]"
   ]
  },
  {
   "cell_type": "code",
   "execution_count": 28,
   "metadata": {},
   "outputs": [
    {
     "name": "stdout",
     "output_type": "stream",
     "text": [
      "<class 'pandas.core.frame.DataFrame'>\n",
      "Int64Index: 100000 entries, 16 to 472768\n",
      "Data columns (total 3 columns):\n",
      " #   Column       Non-Null Count   Dtype \n",
      "---  ------       --------------   ----- \n",
      " 0   User-ID      100000 non-null  int64 \n",
      " 1   ISBN         100000 non-null  object\n",
      " 2   Book-Rating  100000 non-null  int64 \n",
      "dtypes: int64(2), object(1)\n",
      "memory usage: 3.1+ MB\n"
     ]
    }
   ],
   "source": [
    "df.info()"
   ]
  },
  {
   "cell_type": "code",
   "execution_count": 103,
   "metadata": {},
   "outputs": [
    {
     "ename": "NameError",
     "evalue": "name 'df' is not defined",
     "output_type": "error",
     "traceback": [
      "\u001b[1;31m---------------------------------------------------------------------------\u001b[0m",
      "\u001b[1;31mNameError\u001b[0m                                 Traceback (most recent call last)",
      "Cell \u001b[1;32mIn[103], line 2\u001b[0m\n\u001b[0;32m      1\u001b[0m \u001b[39m# Create mappings\u001b[39;00m\n\u001b[1;32m----> 2\u001b[0m user_mapping \u001b[39m=\u001b[39m {userid: i \u001b[39mfor\u001b[39;00m i, userid \u001b[39min\u001b[39;00m \u001b[39menumerate\u001b[39m(df[\u001b[39m'\u001b[39m\u001b[39mUser-ID\u001b[39m\u001b[39m'\u001b[39m]\u001b[39m.\u001b[39munique())}\n\u001b[0;32m      3\u001b[0m item_mapping \u001b[39m=\u001b[39m {isbn: i \u001b[39mfor\u001b[39;00m i, isbn \u001b[39min\u001b[39;00m \u001b[39menumerate\u001b[39m(df[\u001b[39m'\u001b[39m\u001b[39mISBN\u001b[39m\u001b[39m'\u001b[39m]\u001b[39m.\u001b[39munique())}\n\u001b[0;32m      5\u001b[0m \u001b[39m# Count users and items\u001b[39;00m\n",
      "\u001b[1;31mNameError\u001b[0m: name 'df' is not defined"
     ]
    }
   ],
   "source": [
    "# Create mappings\n",
    "user_mapping = {userid: i for i, userid in enumerate(df['User-ID'].unique())}\n",
    "item_mapping = {isbn: i for i, isbn in enumerate(df['ISBN'].unique())}\n",
    "\n",
    "# Count users and items\n",
    "num_users = len(user_mapping)\n",
    "num_items = len(item_mapping)\n",
    "num_total = num_users + num_items"
   ]
  },
  {
   "cell_type": "code",
   "execution_count": 32,
   "metadata": {},
   "outputs": [],
   "source": [
    "# Build the adjacency matrix based on user ratings\n",
    "user_ids = torch.LongTensor([user_mapping[i] for i in df['User-ID']])\n",
    "item_ids = torch.LongTensor([item_mapping[i] for i in df['ISBN']])\n",
    "edge_index = torch.stack((user_ids, item_ids))"
   ]
  },
  {
   "cell_type": "code",
   "execution_count": 33,
   "metadata": {},
   "outputs": [
    {
     "data": {
      "text/plain": [
       "tensor([    0,     0,     0,  ..., 19693, 19693, 19693])"
      ]
     },
     "execution_count": 33,
     "metadata": {},
     "output_type": "execute_result"
    }
   ],
   "source": [
    "user_ids"
   ]
  },
  {
   "cell_type": "code",
   "execution_count": 34,
   "metadata": {},
   "outputs": [
    {
     "data": {
      "text/plain": [
       "tensor([    0,     1,     2,  ..., 56947, 29455, 48816])"
      ]
     },
     "execution_count": 34,
     "metadata": {},
     "output_type": "execute_result"
    }
   ],
   "source": [
    "item_ids"
   ]
  },
  {
   "cell_type": "code",
   "execution_count": 35,
   "metadata": {},
   "outputs": [
    {
     "data": {
      "text/plain": [
       "tensor([[    0,     0,     0,  ..., 19693, 19693, 19693],\n",
       "        [    0,     1,     2,  ..., 56947, 29455, 48816]])"
      ]
     },
     "execution_count": 35,
     "metadata": {},
     "output_type": "execute_result"
    }
   ],
   "source": [
    "edge_index"
   ]
  },
  {
   "cell_type": "code",
   "execution_count": 36,
   "metadata": {},
   "outputs": [
    {
     "name": "stdout",
     "output_type": "stream",
     "text": [
      "2\n",
      "2\n",
      "2\n"
     ]
    }
   ],
   "source": [
    "# Create training, validation, and test adjacency matrices\n",
    "train_index, test_index = train_test_split(range(len(df)), test_size=0.2, random_state=0)\n",
    "val_index, test_index = train_test_split(test_index, test_size=0.5, random_state=0)\n",
    "\n",
    "train_edge_index = edge_index[:, train_index]\n",
    "val_edge_index = edge_index[:, val_index]\n",
    "test_edge_index = edge_index[:, test_index]\n",
    "\n",
    "print(len(train_edge_index))\n",
    "print(len(val_edge_index))\n",
    "print(len(test_edge_index))"
   ]
  },
  {
   "cell_type": "code",
   "execution_count": 37,
   "metadata": {},
   "outputs": [
    {
     "name": "stdout",
     "output_type": "stream",
     "text": [
      "tensor([[ 2266, 15290,  6142,  ...,  8835,  9112, 14149],\n",
      "        [ 8504,  1578,   413,  ...,  3416, 28598,  5062]])\n",
      "tensor([[14501,  4209, 12333,  ..., 19004, 19462, 12070],\n",
      "        [42010,   726, 24062,  ...,   888, 56555,   797]])\n",
      "tensor([[ 4287, 17755, 14746,  ...,  8235, 19323,  9009],\n",
      "        [16526, 53466, 42473,  ..., 26916,   433, 15879]])\n"
     ]
    }
   ],
   "source": [
    "print(train_edge_index)\n",
    "print(val_edge_index)\n",
    "print(test_edge_index)"
   ]
  },
  {
   "cell_type": "code",
   "execution_count": 38,
   "metadata": {},
   "outputs": [],
   "source": [
    "def sample_mini_batch(edge_index):\n",
    "    # Generate BATCH_SIZE random indices\n",
    "    index = np.random.choice(range(edge_index.shape[1]), size=BATCH_SIZE)\n",
    "\n",
    "    # Generate negative sample indices\n",
    "    edge_index = structured_negative_sampling(edge_index)\n",
    "    edge_index = torch.stack(edge_index, dim=0)\n",
    "    \n",
    "    user_index = edge_index[0, index]\n",
    "    pos_item_index = edge_index[1, index]\n",
    "    neg_item_index = edge_index[2, index]\n",
    "    \n",
    "    return user_index, pos_item_index, neg_item_index"
   ]
  },
  {
   "cell_type": "markdown",
   "metadata": {},
   "source": [
    "# Solution Try"
   ]
  },
  {
   "cell_type": "markdown",
   "metadata": {},
   "source": [
    "## Data"
   ]
  },
  {
   "cell_type": "code",
   "execution_count": null,
   "metadata": {},
   "outputs": [],
   "source": [
    "movies_path = './ml-latest-small/movies.csv'\n",
    "ratings_path = './ml-latest-small/ratings.csv'\n",
    "\n",
    "# Load the entire movie data frame into memory:\n",
    "movies_df = pd.read_csv(movies_path, index_col='movieId')\n",
    "\n",
    "# Split genres and convert into indicator variables:\n",
    "genres = movies_df['genres'].str.get_dummies('|')\n",
    "print(genres[[\"Action\", \"Adventure\", \"Drama\", \"Horror\"]].head())\n",
    "# Use genres as movie input features:\n",
    "movie_feat = torch.from_numpy(genres.values).to(torch.float)\n",
    "assert movie_feat.size() == (9742, 20)  # 20 genres in total.\n",
    "\n",
    "# Load the entire ratings data frame into memory:\n",
    "ratings_df = pd.read_csv(ratings_path)\n",
    "\n",
    "# Create a mapping from unique user indices to range [0, num_user_nodes):\n",
    "unique_user_id = ratings_df['userId'].unique()\n",
    "unique_user_id = pd.DataFrame(data={\n",
    "    'userId': unique_user_id,\n",
    "    'mappedID': pd.RangeIndex(len(unique_user_id)),\n",
    "})\n",
    "print(\"Mapping of user IDs to consecutive values:\")\n",
    "print(\"==========================================\")\n",
    "print(unique_user_id.head())\n",
    "print()\n",
    "# Create a mapping from unique movie indices to range [0, num_movie_nodes):\n",
    "unique_movie_id = ratings_df['movieId'].unique()\n",
    "unique_movie_id = pd.DataFrame(data={\n",
    "    'movieId': unique_movie_id,\n",
    "    'mappedID': pd.RangeIndex(len(unique_movie_id)),\n",
    "})\n",
    "print(\"Mapping of movie IDs to consecutive values:\")\n",
    "print(\"===========================================\")\n",
    "print(unique_movie_id.head())\n",
    "# Perform merge to obtain the edges from users and movies:\n",
    "ratings_user_id = pd.merge(ratings_df['userId'], unique_user_id,\n",
    "                            left_on='userId', right_on='userId', how='left')\n",
    "ratings_user_id = torch.from_numpy(ratings_user_id['mappedID'].values)\n",
    "ratings_movie_id = pd.merge(ratings_df['movieId'], unique_movie_id,\n",
    "                            left_on='movieId', right_on='movieId', how='left')\n",
    "ratings_movie_id = torch.from_numpy(ratings_movie_id['mappedID'].values)\n",
    "# With this, we are ready to construct our `edge_index` in COO format\n",
    "# following PyG semantics:\n",
    "edge_index_user_to_movie = torch.stack([ratings_user_id, ratings_movie_id], dim=0)\n",
    "assert edge_index_user_to_movie.size() == (2, 100836)\n",
    "print()\n",
    "print(\"Final edge indices pointing from users to movies:\")\n",
    "print(\"=================================================\")\n",
    "print(edge_index_user_to_movie)\n",
    "\n",
    "\n",
    "data = HeteroData()\n",
    "# Save node indices:\n",
    "data[\"user\"].node_id = torch.arange(len(unique_user_id))\n",
    "data[\"movie\"].node_id = torch.arange(len(movies_df))\n",
    "# Add the node features and edge indices:\n",
    "data[\"movie\"].x = movie_feat\n",
    "data[\"user\", \"rates\", \"movie\"].edge_index = edge_index_user_to_movie\n",
    "data = T.ToUndirected()(data)\n",
    "\n",
    "\n",
    "transform = T.RandomLinkSplit(\n",
    "    num_val=0.1,\n",
    "    num_test=0.1,\n",
    "    disjoint_train_ratio=0.3,\n",
    "    neg_sampling_ratio=2.0,\n",
    "    add_negative_train_samples=False,\n",
    "    edge_types=(\"user\", \"rates\", \"movie\"),\n",
    "    rev_edge_types=(\"movie\", \"rev_rates\", \"user\"), \n",
    ")\n",
    "train_data, val_data, test_data = transform(data)"
   ]
  },
  {
   "cell_type": "markdown",
   "metadata": {},
   "source": [
    "## LinkNeighborLoader"
   ]
  },
  {
   "cell_type": "code",
   "execution_count": null,
   "metadata": {},
   "outputs": [],
   "source": [
    "# Define seed edges:\n",
    "from torch_geometric.loader import LinkNeighborLoader\n",
    "edge_label_index = train_data[\"user\", \"rates\", \"movie\"].edge_label_index\n",
    "edge_label = train_data[\"user\", \"rates\", \"movie\"].edge_label\n",
    "train_loader = LinkNeighborLoader(\n",
    "    data=train_data,\n",
    "    num_neighbors=[20, 10],\n",
    "    neg_sampling_ratio=2.0,\n",
    "    edge_label_index=((\"user\", \"rates\", \"movie\"), edge_label_index),\n",
    "    edge_label=edge_label,\n",
    "    batch_size=128,\n",
    "    shuffle=True,\n",
    ")\n",
    "\n",
    "# Define the validation seed edges:\n",
    "val_loader = LinkNeighborLoader(\n",
    "    data=val_data,\n",
    "    num_neighbors=[20, 10],\n",
    "    edge_label_index=((\"user\", \"rates\", \"movie\"), val_data[\"user\", \"rates\", \"movie\"].edge_label_index),\n",
    "    edge_label=val_data[\"user\", \"rates\", \"movie\"].edge_label,\n",
    "    batch_size=3 * 128,\n",
    "    shuffle=False,\n",
    ")\n",
    "sampled_data = next(iter(val_loader))"
   ]
  },
  {
   "cell_type": "markdown",
   "metadata": {},
   "source": [
    "## Model"
   ]
  },
  {
   "cell_type": "code",
   "execution_count": null,
   "metadata": {},
   "outputs": [],
   "source": [
    "from torch_geometric.nn import SAGEConv, to_hetero\n",
    "import torch.nn.functional as F\n",
    "class GNN(torch.nn.Module):\n",
    "    def __init__(self, hidden_channels):\n",
    "        super().__init__()\n",
    "        self.conv1 = SAGEConv(hidden_channels, hidden_channels)\n",
    "        self.conv2 = SAGEConv(hidden_channels, hidden_channels)\n",
    "    def forward(self, x: Tensor, edge_index: Tensor) -> Tensor:\n",
    "        x = F.relu(self.conv1(x, edge_index))\n",
    "        x = self.conv2(x, edge_index)\n",
    "        return x\n",
    "# Our final classifier applies the dot-product between source and destination\n",
    "# node embeddings to derive edge-level predictions:\n",
    "class Classifier(torch.nn.Module):\n",
    "    def forward(self, x_user: Tensor, x_movie: Tensor, edge_label_index: Tensor) -> Tensor:\n",
    "        # Convert node embeddings to edge-level representations:\n",
    "        edge_feat_user = x_user[edge_label_index[0]]\n",
    "        edge_feat_movie = x_movie[edge_label_index[1]]\n",
    "        # Apply dot-product to get a prediction per supervision edge:\n",
    "        return (edge_feat_user * edge_feat_movie).sum(dim=-1)\n",
    "\n",
    "class Model(torch.nn.Module):\n",
    "    def __init__(self, hidden_channels):\n",
    "        super().__init__()\n",
    "        # Since the dataset does not come with rich features, we also learn two\n",
    "        # embedding matrices for users and movies:\n",
    "        self.movie_lin = torch.nn.Linear(20, hidden_channels)\n",
    "        self.user_emb = torch.nn.Embedding(data[\"user\"].num_nodes, hidden_channels)\n",
    "        self.movie_emb = torch.nn.Embedding(data[\"movie\"].num_nodes, hidden_channels)\n",
    "        # Instantiate homogeneous GNN:\n",
    "        self.gnn = GNN(hidden_channels)\n",
    "        # Convert GNN model into a heterogeneous variant:\n",
    "        self.gnn = to_hetero(self.gnn, metadata=data.metadata())\n",
    "        self.classifier = Classifier()\n",
    "    def forward(self, data: HeteroData) -> Tensor:\n",
    "        x_dict = {\n",
    "          \"user\": self.user_emb(data[\"user\"].node_id),\n",
    "          \"movie\": self.movie_lin(data[\"movie\"].x) + self.movie_emb(data[\"movie\"].node_id),\n",
    "        } \n",
    "        # `x_dict` holds feature matrices of all node types\n",
    "        # `edge_index_dict` holds all edge indices of all edge types\n",
    "        x_dict = self.gnn(x_dict, data.edge_index_dict)\n",
    "        pred = self.classifier(\n",
    "            x_dict[\"user\"],\n",
    "            x_dict[\"movie\"],\n",
    "            data[\"user\", \"rates\", \"movie\"].edge_label_index,\n",
    "        )\n",
    "        return pred\n",
    "        \n",
    "model = Model(hidden_channels=64)"
   ]
  },
  {
   "cell_type": "markdown",
   "metadata": {},
   "source": [
    "## Train"
   ]
  },
  {
   "cell_type": "code",
   "execution_count": null,
   "metadata": {},
   "outputs": [],
   "source": [
    "import tqdm\n",
    "import torch.nn.functional as F\n",
    "device = torch.device('cuda' if torch.cuda.is_available() else 'cpu')\n",
    "print(f\"Device: '{device}'\")\n",
    "model = model.to(device)\n",
    "optimizer = torch.optim.Adam(model.parameters(), lr=0.001)\n",
    "for epoch in range(1, 6):\n",
    "    total_loss = total_examples = 0\n",
    "    for sampled_data in tqdm.tqdm(train_loader):\n",
    "        optimizer.zero_grad()\n",
    "        sampled_data.to(device)\n",
    "        pred = model(sampled_data)\n",
    "        ground_truth = sampled_data[\"user\", \"rates\", \"movie\"].edge_label\n",
    "        loss = F.binary_cross_entropy_with_logits(pred, ground_truth)\n",
    "        loss.backward()\n",
    "        optimizer.step()\n",
    "        total_loss += float(loss) * pred.numel()\n",
    "        total_examples += pred.numel()\n",
    "    print(f\"Epoch: {epoch:03d}, Loss: {total_loss / total_examples:.4f}\")"
   ]
  },
  {
   "cell_type": "markdown",
   "metadata": {},
   "source": [
    "## Evaluate"
   ]
  },
  {
   "cell_type": "code",
   "execution_count": null,
   "metadata": {},
   "outputs": [],
   "source": []
  },
  {
   "cell_type": "code",
   "execution_count": null,
   "metadata": {},
   "outputs": [],
   "source": [
    "\n",
    "preds = []\n",
    "ground_truths = []\n",
    "for sampled_data in tqdm.tqdm(val_loader):\n",
    "    with torch.no_grad():\n",
    "        sampled_data.to(device)\n",
    "        preds.append(model(sampled_data))\n",
    "        ground_truths.append(sampled_data[\"user\", \"rates\", \"movie\"].edge_label)\n",
    "pred = torch.cat(preds, dim=0).cpu().numpy()\n",
    "ground_truth = torch.cat(ground_truths, dim=0).cpu().numpy()\n",
    "auc = roc_auc_score(ground_truth, pred)\n",
    "print()\n",
    "print(f\"Validation AUC: {auc:.4f}\")"
   ]
  },
  {
   "cell_type": "code",
   "execution_count": null,
   "metadata": {},
   "outputs": [],
   "source": []
  },
  {
   "cell_type": "markdown",
   "metadata": {},
   "source": [
    "# Implementing the LightGCN Architecture"
   ]
  },
  {
   "cell_type": "code",
   "execution_count": 39,
   "metadata": {},
   "outputs": [],
   "source": [
    "class LightGCN(nn.Module):\n",
    "    def __init__(self, num_users, num_items, num_layers=4, dim_h=64):\n",
    "        super().__init__()\n",
    "        \n",
    "        self.num_users = num_users\n",
    "        self.num_items = num_items\n",
    "        self.num_layers = num_layers\n",
    "        self.emb_users = nn.Embedding(num_embeddings=self.num_users, embedding_dim=dim_h)\n",
    "        self.emb_items = nn.Embedding(num_embeddings=self.num_items, embedding_dim=dim_h)\n",
    "\n",
    "        self.convs = nn.ModuleList(LGConv() for _ in range(num_layers))\n",
    "\n",
    "        nn.init.normal_(self.emb_users.weight, std=0.01)\n",
    "        nn.init.normal_(self.emb_items.weight, std=0.01)\n",
    "\n",
    "    def forward(self, edge_index):\n",
    "        emb = torch.cat([self.emb_users.weight, self.emb_items.weight])\n",
    "        embs = [emb]\n",
    "\n",
    "        for conv in self.convs:\n",
    "            emb = conv(x=emb, edge_index=edge_index)\n",
    "            embs.append(emb)\n",
    "\n",
    "        emb_final = 1/(self.num_layers+1) * torch.mean(torch.stack(embs, dim=1), dim=1)\n",
    "\n",
    "        emb_users_final, emb_items_final = torch.split(emb_final, [self.num_users, self.num_items])\n",
    "\n",
    "        return emb_users_final, self.emb_users.weight, emb_items_final, self.emb_items.weight"
   ]
  },
  {
   "cell_type": "code",
   "execution_count": 40,
   "metadata": {},
   "outputs": [],
   "source": [
    "def bpr_loss(emb_users_final, emb_users, emb_pos_items_final, emb_pos_items, emb_neg_items_final, emb_neg_items):\n",
    "    reg_loss = LAMBDA * (emb_users.norm().pow(2) +\n",
    "                        emb_pos_items.norm().pow(2) +\n",
    "                        emb_neg_items.norm().pow(2))\n",
    "\n",
    "    pos_ratings = torch.mul(emb_users_final, emb_pos_items_final).sum(dim=-1)\n",
    "    neg_ratings = torch.mul(emb_users_final, emb_neg_items_final).sum(dim=-1)\n",
    "\n",
    "    bpr_loss = torch.mean(torch.nn.functional.softplus(pos_ratings - neg_ratings))\n",
    "    # bpr_loss = torch.mean(torch.nn.functional.logsigmoid(pos_ratings - neg_ratings))\n",
    "\n",
    "    return -bpr_loss + reg_loss\n",
    "\n",
    "def get_user_items(edge_index):\n",
    "    user_items = dict()\n",
    "    for i in range(edge_index.shape[1]):\n",
    "        user = edge_index[0][i].item()\n",
    "        item = edge_index[1][i].item()\n",
    "        if user not in user_items:\n",
    "            user_items[user] = []\n",
    "        user_items[user].append(item)\n",
    "    return user_items\n",
    "\n",
    "def compute_recall_at_k(items_ground_truth, items_predicted):\n",
    "    num_correct_pred = np.sum(items_predicted, axis=1)\n",
    "    num_total_pred = np.array([len(items_ground_truth[i]) for i in range(len(items_ground_truth))])\n",
    "\n",
    "    recall = np.mean(num_correct_pred / num_total_pred)\n",
    "\n",
    "    return recall\n",
    "\n",
    "def compute_ndcg_at_k(items_ground_truth, items_predicted):\n",
    "    test_matrix = np.zeros((len(items_predicted), K))\n",
    "\n",
    "    for i, items in enumerate(items_ground_truth):\n",
    "        length = min(len(items), K)\n",
    "        test_matrix[i, :length] = 1\n",
    "    \n",
    "    max_r = test_matrix\n",
    "    idcg = np.sum(max_r * 1. / np.log2(np.arange(2, K + 2)), axis=1)\n",
    "    dcg = items_predicted * (1. / np.log2(np.arange(2, K + 2)))\n",
    "    dcg = np.sum(dcg, axis=1)\n",
    "    idcg[idcg == 0.] = 1.\n",
    "    ndcg = dcg / idcg\n",
    "    ndcg[np.isnan(ndcg)] = 0.\n",
    "    \n",
    "    return np.mean(ndcg)"
   ]
  },
  {
   "cell_type": "code",
   "execution_count": 41,
   "metadata": {},
   "outputs": [],
   "source": [
    "# wrapper function to get evaluation metrics\n",
    "def get_metrics(model, edge_index, exclude_edge_indices):\n",
    "\n",
    "    ratings = torch.matmul(model.emb_users.weight, model.emb_items.weight.T)\n",
    "\n",
    "    for exclude_edge_index in exclude_edge_indices:\n",
    "        user_pos_items = get_user_items(exclude_edge_index)\n",
    "        exclude_users = []\n",
    "        exclude_items = []\n",
    "        for user, items in user_pos_items.items():\n",
    "            exclude_users.extend([user] * len(items))\n",
    "            exclude_items.extend(items)\n",
    "        ratings[exclude_users, exclude_items] = -1024\n",
    "\n",
    "    # get the top k recommended items for each user\n",
    "    _, top_K_items = torch.topk(ratings, k=K)\n",
    "\n",
    "    # get all unique users in evaluated split\n",
    "    users = edge_index[0].unique()\n",
    "\n",
    "    test_user_pos_items = get_user_items(edge_index)\n",
    "\n",
    "    # convert test user pos items dictionary into a list\n",
    "    test_user_pos_items_list = [test_user_pos_items[user.item()] for user in users]\n",
    "\n",
    "    # determine the correctness of topk predictions\n",
    "    items_predicted = []\n",
    "    for user in users:\n",
    "        ground_truth_items = test_user_pos_items[user.item()]\n",
    "        label = list(map(lambda x: x in ground_truth_items, top_K_items[user]))\n",
    "        items_predicted.append(label)\n",
    "\n",
    "    recall = compute_recall_at_k(test_user_pos_items_list, items_predicted)\n",
    "    ndcg = compute_ndcg_at_k(test_user_pos_items_list, items_predicted)\n",
    "\n",
    "    return recall, ndcg"
   ]
  },
  {
   "cell_type": "code",
   "execution_count": 42,
   "metadata": {},
   "outputs": [],
   "source": [
    "# wrapper function to evaluate model\n",
    "def test(model, edge_index, exclude_edge_indices):\n",
    "    emb_users_final, emb_users, emb_items_final, emb_items = model.forward(edge_index)\n",
    "    user_indices, pos_item_indices, neg_item_indices = structured_negative_sampling(edge_index, contains_neg_self_loops=False)\n",
    "\n",
    "    emb_users_final, emb_users = emb_users_final[user_indices], emb_users[user_indices]\n",
    "\n",
    "    emb_pos_items_final, emb_pos_items = emb_items_final[pos_item_indices], emb_items[pos_item_indices]\n",
    "    emb_neg_items_final, emb_neg_items = emb_items_final[neg_item_indices], emb_items[neg_item_indices]\n",
    "\n",
    "    loss = bpr_loss(emb_users_final, emb_users, emb_pos_items_final, emb_pos_items, emb_neg_items_final, emb_neg_items).item()\n",
    "\n",
    "    recall, ndcg = get_metrics(model, edge_index, exclude_edge_indices)\n",
    "\n",
    "    return loss, recall, ndcg"
   ]
  },
  {
   "cell_type": "code",
   "execution_count": 45,
   "metadata": {},
   "outputs": [],
   "source": [
    "K = 20\n",
    "LAMBDA = 1e-6\n",
    "BATCH_SIZE = 1024"
   ]
  },
  {
   "cell_type": "code",
   "execution_count": 43,
   "metadata": {},
   "outputs": [],
   "source": [
    "device = torch.device('cuda' if torch.cuda.is_available() else 'cpu')\n",
    "\n",
    "model = LightGCN(num_users, num_items)\n",
    "model = model.to(device)\n",
    "edge_index = edge_index.to(device)\n",
    "train_edge_index = train_edge_index.to(device)\n",
    "val_edge_index = val_edge_index.to(device)\n",
    "\n",
    "optimizer = optim.Adam(model.parameters(), lr=0.001)"
   ]
  },
  {
   "cell_type": "code",
   "execution_count": 46,
   "metadata": {},
   "outputs": [
    {
     "name": "stdout",
     "output_type": "stream",
     "text": [
      "Epoch 0 | Train loss: -0.69336 | Val loss: -0.69256 | Val recall@20:   0.00792 | Val ndcg@20: 0.00421\n",
      "Epoch 5 | Train loss: -0.72708 | Val loss: -0.63786 | Val recall@20:   0.01772 | Val ndcg@20: 0.00826\n",
      "Epoch 10 | Train loss: -0.91278 | Val loss: -0.43344 | Val recall@20:   0.01884 | Val ndcg@20: 0.00849\n",
      "Epoch 15 | Train loss: -1.43524 | Val loss: -0.04398 | Val recall@20:   0.01811 | Val ndcg@20: 0.00825\n",
      "Epoch 20 | Train loss: -2.29949 | Val loss: 0.49414 | Val recall@20:   0.01785 | Val ndcg@20: 0.00863\n",
      "Epoch 25 | Train loss: -3.03163 | Val loss: 1.15763 | Val recall@20:   0.01806 | Val ndcg@20: 0.00874\n",
      "Epoch 30 | Train loss: -4.14914 | Val loss: 1.92553 | Val recall@20:   0.01790 | Val ndcg@20: 0.00844\n",
      "CPU times: total: 30min 33s\n",
      "Wall time: 17min 37s\n"
     ]
    }
   ],
   "source": [
    "%%time\n",
    "\n",
    "n_batch = int(len(train_index)/BATCH_SIZE)\n",
    "\n",
    "for epoch in range(31):\n",
    "    model.train()\n",
    "\n",
    "    for _ in range(n_batch):\n",
    "        optimizer.zero_grad()\n",
    "\n",
    "        emb_users_final, emb_users, emb_items_final, emb_items = model.forward(train_edge_index)\n",
    "\n",
    "        user_indices, pos_item_indices, neg_item_indices = sample_mini_batch(train_edge_index)\n",
    "        \n",
    "        emb_users_final, emb_users = emb_users_final[user_indices], emb_users[user_indices]\n",
    "        emb_pos_items_final, emb_pos_items = emb_items_final[pos_item_indices], emb_items[pos_item_indices]\n",
    "        emb_neg_items_final, emb_neg_items = emb_items_final[neg_item_indices], emb_items[neg_item_indices]\n",
    "\n",
    "        train_loss = bpr_loss(emb_users_final, emb_users, emb_pos_items_final, emb_pos_items, emb_neg_items_final, emb_neg_items)\n",
    "\n",
    "        train_loss.backward()\n",
    "        optimizer.step()\n",
    "\n",
    "    if epoch % 5 == 0:\n",
    "        model.eval()\n",
    "        val_loss, recall, ndcg = test(model, val_edge_index, [train_edge_index])\n",
    "        print(f\"Epoch {epoch} | Train loss: {train_loss.item():.5f} | Val loss: {val_loss:.5f} | Val recall@{K}:   {recall:.5f} | Val ndcg@{K}: {ndcg:.5f}\")"
   ]
  },
  {
   "cell_type": "code",
   "execution_count": 47,
   "metadata": {},
   "outputs": [
    {
     "name": "stdout",
     "output_type": "stream",
     "text": [
      "Test loss: 1.90032 | Test recall@20: 0.01746 | Test ndcg@20: 0.00883\n"
     ]
    }
   ],
   "source": [
    "test_loss, test_recall, test_ndcg = test(model, test_edge_index.to(device), [train_edge_index, val_edge_index])\n",
    "\n",
    "print(f\"Test loss: {test_loss:.5f} | Test recall@{K}: {test_recall:.5f} | Test ndcg@{K}: {test_ndcg:.5f}\")"
   ]
  },
  {
   "cell_type": "code",
   "execution_count": 48,
   "metadata": {},
   "outputs": [
    {
     "data": {
      "text/plain": [
       "Parameter containing:\n",
       "tensor([[-0.8027,  0.8152, -0.8104,  ...,  0.8056,  0.8098,  0.8037],\n",
       "        [-0.1424,  0.1563, -0.1528,  ...,  0.1592,  0.1581,  0.1516],\n",
       "        [-0.6368,  0.6401, -0.6392,  ...,  0.6308,  0.6432,  0.6407],\n",
       "        ...,\n",
       "        [ 0.2991, -0.2995,  0.3002,  ..., -0.2973, -0.2941, -0.3004],\n",
       "        [ 0.1893, -0.1920,  0.1926,  ..., -0.1899, -0.1826, -0.1895],\n",
       "        [ 0.1952, -0.1906,  0.1941,  ..., -0.1976, -0.1972, -0.2010]],\n",
       "       requires_grad=True)"
      ]
     },
     "execution_count": 48,
     "metadata": {},
     "output_type": "execute_result"
    }
   ],
   "source": [
    "model.emb_items.weight"
   ]
  },
  {
   "cell_type": "code",
   "execution_count": 49,
   "metadata": {},
   "outputs": [
    {
     "data": {
      "text/plain": [
       "Parameter containing:\n",
       "tensor([[-0.4302,  0.4406, -0.4240,  ...,  0.4398,  0.4345,  0.4292],\n",
       "        [ 0.0005,  0.0054, -0.0134,  ...,  0.0094,  0.0159, -0.0085],\n",
       "        [-0.4479,  0.4440, -0.4700,  ...,  0.4619,  0.4506,  0.4574],\n",
       "        ...,\n",
       "        [ 0.1863, -0.1836,  0.1860,  ..., -0.1870, -0.1816, -0.1868],\n",
       "        [ 0.0127,  0.0027,  0.0062,  ...,  0.0010,  0.0069, -0.0064],\n",
       "        [-0.2211,  0.2245, -0.2211,  ...,  0.2216,  0.2291,  0.2158]],\n",
       "       requires_grad=True)"
      ]
     },
     "execution_count": 49,
     "metadata": {},
     "output_type": "execute_result"
    }
   ],
   "source": [
    "model.emb_users.weight"
   ]
  },
  {
   "cell_type": "code",
   "execution_count": null,
   "metadata": {},
   "outputs": [],
   "source": []
  }
 ],
 "metadata": {
  "kernelspec": {
   "display_name": "me2",
   "language": "python",
   "name": "python3"
  },
  "language_info": {
   "codemirror_mode": {
    "name": "ipython",
    "version": 3
   },
   "file_extension": ".py",
   "mimetype": "text/x-python",
   "name": "python",
   "nbconvert_exporter": "python",
   "pygments_lexer": "ipython3",
   "version": "3.9.0"
  },
  "orig_nbformat": 4
 },
 "nbformat": 4,
 "nbformat_minor": 2
}
