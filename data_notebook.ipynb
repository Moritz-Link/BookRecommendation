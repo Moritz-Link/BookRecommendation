{
 "cells": [
  {
   "cell_type": "code",
   "execution_count": 1,
   "metadata": {},
   "outputs": [],
   "source": [
    "from io import BytesIO\n",
    "import  torch_geometric\n",
    "from urllib.request import urlopen\n",
    "from zipfile import ZipFile\n",
    "from torch_geometric.data import HeteroData\n",
    "import torch_geometric.transforms as T\n",
    "import dill as pickle\n",
    "import torch\n",
    "import pandas as pd\n",
    "import numpy as np\n",
    "from zipfile import ZipFile"
   ]
  },
  {
   "cell_type": "markdown",
   "metadata": {},
   "source": [
    "### Zip Graph Model"
   ]
  },
  {
   "cell_type": "code",
   "execution_count": null,
   "metadata": {},
   "outputs": [],
   "source": [
    "with ZipFile('final_book_model.zip', 'r') as f:\n",
    "    f.extractall(\"model\")\n",
    "#extract in different directory"
   ]
  },
  {
   "cell_type": "markdown",
   "metadata": {},
   "source": [
    "### Download ratings, users and books"
   ]
  },
  {
   "cell_type": "code",
   "execution_count": null,
   "metadata": {},
   "outputs": [],
   "source": [
    "url = 'http://www2.informatik.uni-freiburg.de/~cziegler/BX/BX-CSV-Dump.zip'\n",
    "with urlopen(url) as zurl:\n",
    "    with ZipFile(BytesIO(zurl.read())) as zfile:\n",
    "        zfile.extractall('.')"
   ]
  },
  {
   "cell_type": "markdown",
   "metadata": {},
   "source": [
    "### Graph Data"
   ]
  },
  {
   "cell_type": "code",
   "execution_count": 2,
   "metadata": {},
   "outputs": [
    {
     "name": "stderr",
     "output_type": "stream",
     "text": [
      "C:\\Users\\morit\\AppData\\Local\\Temp\\ipykernel_27536\\1575487172.py:3: FutureWarning: The error_bad_lines argument has been deprecated and will be removed in a future version. Use on_bad_lines in the future.\n",
      "\n",
      "\n",
      "  books = pd.read_csv('BX-Books.csv', sep=';', encoding='latin-1', error_bad_lines=False)\n",
      "Skipping line 6452: expected 8 fields, saw 9\n",
      "Skipping line 43667: expected 8 fields, saw 10\n",
      "Skipping line 51751: expected 8 fields, saw 9\n",
      "\n",
      "Skipping line 92038: expected 8 fields, saw 9\n",
      "Skipping line 104319: expected 8 fields, saw 9\n",
      "Skipping line 121768: expected 8 fields, saw 9\n",
      "\n",
      "Skipping line 144058: expected 8 fields, saw 9\n",
      "Skipping line 150789: expected 8 fields, saw 9\n",
      "Skipping line 157128: expected 8 fields, saw 9\n",
      "Skipping line 180189: expected 8 fields, saw 9\n",
      "Skipping line 185738: expected 8 fields, saw 9\n",
      "\n",
      "Skipping line 209388: expected 8 fields, saw 9\n",
      "Skipping line 220626: expected 8 fields, saw 9\n",
      "Skipping line 227933: expected 8 fields, saw 11\n",
      "Skipping line 228957: expected 8 fields, saw 10\n",
      "Skipping line 245933: expected 8 fields, saw 9\n",
      "Skipping line 251296: expected 8 fields, saw 9\n",
      "Skipping line 259941: expected 8 fields, saw 9\n",
      "Skipping line 261529: expected 8 fields, saw 9\n",
      "\n",
      "C:\\Users\\morit\\AppData\\Local\\Temp\\ipykernel_27536\\1575487172.py:3: DtypeWarning: Columns (3) have mixed types. Specify dtype option on import or set low_memory=False.\n",
      "  books = pd.read_csv('BX-Books.csv', sep=';', encoding='latin-1', error_bad_lines=False)\n"
     ]
    }
   ],
   "source": [
    "ratings = pd.read_csv('BX-Book-Ratings.csv', sep=';', encoding='latin-1')\n",
    "users = pd.read_csv('BX-Users.csv', sep=';', encoding='latin-1')\n",
    "books = pd.read_csv('BX-Books.csv', sep=';', encoding='latin-1', error_bad_lines=False)"
   ]
  },
  {
   "cell_type": "code",
   "execution_count": 3,
   "metadata": {},
   "outputs": [],
   "source": [
    "ratings_filtered = ratings.loc[ratings[\"Book-Rating\"] >= 8]\n",
    "ratings_filtered = ratings_filtered.loc[ratings_filtered['ISBN'].isin(books['ISBN'].unique()) & ratings_filtered['User-ID'].isin(users['User-ID'].unique())]\n",
    "mapping_user = { user_id: index for index, user_id in enumerate(ratings_filtered[\"User-ID\"].unique())}\n",
    "mapping_item = { isbn_id: index for index, isbn_id in enumerate(ratings_filtered[\"ISBN\"].unique())}\n",
    "\n",
    "df_mapping_user = pd.DataFrame()\n",
    "df_mapping_user[\"user_id\"] = mapping_user.keys()\n",
    "df_mapping_user[\"user_id_mapped\"] = mapping_user.values()\n",
    "\n",
    "df_mapping_item = pd.DataFrame()\n",
    "df_mapping_item[\"isbn_id\"] = mapping_item.keys()\n",
    "df_mapping_item[\"isbn_id_mapped\"] = mapping_item.values()"
   ]
  },
  {
   "cell_type": "code",
   "execution_count": 4,
   "metadata": {},
   "outputs": [],
   "source": [
    "ratings_filtered_m = ratings_filtered.merge(df_mapping_user, left_on = \"User-ID\", right_on=\"user_id\", how = \"left\")\n",
    "ratings_filtered_m = ratings_filtered_m.merge(df_mapping_item, left_on = \"ISBN\", right_on=\"isbn_id\", how = \"left\")\n"
   ]
  },
  {
   "cell_type": "code",
   "execution_count": 5,
   "metadata": {},
   "outputs": [
    {
     "name": "stdout",
     "output_type": "stream",
     "text": [
      "Year-Of-Publication 166\n",
      "Publisher 8750\n",
      "<class 'pandas.core.frame.DataFrame'>\n",
      "Int64Index: 98417 entries, 0 to 98416\n",
      "Columns: 8751 entries, Year-Of-Publication to publisher_Ã?lbaum\n",
      "dtypes: int32(1), uint8(8750)\n",
      "memory usage: 822.4 MB\n",
      "None\n"
     ]
    },
    {
     "data": {
      "text/plain": [
       "torch.Size([98417, 8751])"
      ]
     },
     "execution_count": 5,
     "metadata": {},
     "output_type": "execute_result"
    }
   ],
   "source": [
    "\n",
    "edge_index_user_to_isbn = ratings_filtered_m[[\"user_id_mapped\", \"isbn_id_mapped\"]]\n",
    "edge_index_user_to_isbn_user = torch.from_numpy(edge_index_user_to_isbn.user_id_mapped.values)\n",
    "edge_index_user_to_isbn_isbn =torch.from_numpy( edge_index_user_to_isbn.isbn_id_mapped.values)\n",
    "edge_index_user_to_isbn_user\n",
    "edge_index_user_to_isbn_isbn\n",
    "\n",
    "edge_index_user_to_isbn = torch.stack([edge_index_user_to_isbn_user, edge_index_user_to_isbn_isbn], dim=0)\n",
    "\n",
    "book_x = books[[\"ISBN\", \"Year-Of-Publication\", \"Publisher\"]]\n",
    "book_x = book_x[(book_x[\"ISBN\"].isin(list(ratings_filtered_m.isbn_id.unique())) )]\n",
    "\n",
    "book_x = book_x.merge(df_mapping_item,left_on =  \"ISBN\",right_on = \"isbn_id\", how= \"left\")\n",
    "book_x = book_x.sort_values(by=['isbn_id_mapped'])\n",
    "\n",
    "book_x = book_x.set_index('isbn_id_mapped')\n",
    "book_x = book_x[[\"Year-Of-Publication\", \"Publisher\"]]\n",
    "\n",
    "\n",
    "for c in [ \"Year-Of-Publication\", \"Publisher\"]:\n",
    "    \n",
    "    print(f'{c} {book_x[c].nunique()}')\n",
    "    \n",
    "book_x = pd.get_dummies(book_x, columns=[\"Publisher\"], prefix=[\"publisher\"])\n",
    "\n",
    "book_x[\"Year-Of-Publication\"]= book_x[\"Year-Of-Publication\"].astype(int)\n",
    "\n",
    "\n",
    "\n",
    "print(book_x.info())\n",
    "\n",
    "\n",
    "torch_isbn = torch.tensor(book_x.values)\n",
    "torch_isbn.shape"
   ]
  },
  {
   "cell_type": "code",
   "execution_count": 6,
   "metadata": {},
   "outputs": [
    {
     "name": "stdout",
     "output_type": "stream",
     "text": [
      "dictionary saved successfully to file\n"
     ]
    }
   ],
   "source": [
    "\n",
    "data = HeteroData()\n",
    "\n",
    "data[\"user\"].node_id = torch.from_numpy(ratings_filtered_m.user_id_mapped.unique())\n",
    "data[\"isbn\"].node_id =torch.from_numpy(ratings_filtered_m.isbn_id_mapped.unique())\n",
    "data[\"isbn\"].x = torch_isbn\n",
    "data[\"user\", \"review\", \"isbn\"].edge_index  = edge_index_user_to_isbn\n",
    "data = T.ToUndirected()(data)\n",
    "\n",
    "a = data.to_dict()\n",
    "\n",
    "with open('data_graph.pkl', 'wb') as fp:\n",
    "    pickle.dump(a, fp)\n",
    "    print('dictionary saved successfully to file')"
   ]
  },
  {
   "cell_type": "code",
   "execution_count": null,
   "metadata": {},
   "outputs": [],
   "source": []
  }
 ],
 "metadata": {
  "kernelspec": {
   "display_name": "me",
   "language": "python",
   "name": "python3"
  },
  "language_info": {
   "codemirror_mode": {
    "name": "ipython",
    "version": 3
   },
   "file_extension": ".py",
   "mimetype": "text/x-python",
   "name": "python",
   "nbconvert_exporter": "python",
   "pygments_lexer": "ipython3",
   "version": "3.9.0"
  }
 },
 "nbformat": 4,
 "nbformat_minor": 2
}
